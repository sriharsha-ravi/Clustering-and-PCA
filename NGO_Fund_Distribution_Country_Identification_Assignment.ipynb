{
 "cells": [
  {
   "cell_type": "markdown",
   "metadata": {},
   "source": [
    "## Business Objective\n",
    "\n",
    "- HELP International is an international humanitarian NGO that is committed to fighting poverty and providing the people of backward countries with basic amenities and relief during the time of disasters and natural calamities. It runs a lot of operational projects from time to time along with advocacy drives to raise awareness as well as for funding purposes.\n",
    "\n",
    "\n",
    "- After the recent project that included a lot of awareness drives and funding programmes, they have been able to raise around  10 million dollars. Now the CEO of the NGO needs to decide how to use this money strategically and effectively. The significant issues that come while making this decision are mostly related to choosing the countries that are in the direst need of aid. \n",
    "\n",
    "\n",
    "- As a data analyst, we need to categorise the countries using some socio-economic and health factors that determine the overall development of the country. Then we need to suggest the countries which the CEO needs to focus on the most.  The datasets containing those socio-economic factors and the corresponding data dictionary are provided below."
   ]
  },
  {
   "cell_type": "markdown",
   "metadata": {},
   "source": [
    "__author__ = 'Sri Harsha Ravi'"
   ]
  },
  {
   "cell_type": "code",
   "execution_count": 1,
   "metadata": {},
   "outputs": [],
   "source": [
    "#importing python libraries\n",
    "import pandas as pd\n",
    "import numpy as np\n",
    "\n",
    "#importing visualization libraries\n",
    "import matplotlib.pyplot as plt\n",
    "import seaborn as sns"
   ]
  },
  {
   "cell_type": "code",
   "execution_count": 2,
   "metadata": {},
   "outputs": [],
   "source": [
    "#Load the Data Set\n",
    "countries_df = pd.read_csv('C:\\\\Users\\\\sravi35\\\\OneDrive\\\\Personal\\\\IIITB\\\\PredictiveAnalytics1\\\\Module6\\\\M6S1\\\\Country-data.csv')"
   ]
  },
  {
   "cell_type": "markdown",
   "metadata": {},
   "source": [
    "# Data understanding and EDA"
   ]
  },
  {
   "cell_type": "code",
   "execution_count": 3,
   "metadata": {},
   "outputs": [
    {
     "data": {
      "text/plain": [
       "(167, 10)"
      ]
     },
     "execution_count": 3,
     "metadata": {},
     "output_type": "execute_result"
    }
   ],
   "source": [
    "#Inspecting the number of rows and columns\n",
    "countries_df.shape"
   ]
  },
  {
   "cell_type": "code",
   "execution_count": 4,
   "metadata": {},
   "outputs": [
    {
     "data": {
      "text/html": [
       "<div>\n",
       "<style scoped>\n",
       "    .dataframe tbody tr th:only-of-type {\n",
       "        vertical-align: middle;\n",
       "    }\n",
       "\n",
       "    .dataframe tbody tr th {\n",
       "        vertical-align: top;\n",
       "    }\n",
       "\n",
       "    .dataframe thead th {\n",
       "        text-align: right;\n",
       "    }\n",
       "</style>\n",
       "<table border=\"1\" class=\"dataframe\">\n",
       "  <thead>\n",
       "    <tr style=\"text-align: right;\">\n",
       "      <th></th>\n",
       "      <th>country</th>\n",
       "      <th>child_mort</th>\n",
       "      <th>exports</th>\n",
       "      <th>health</th>\n",
       "      <th>imports</th>\n",
       "      <th>income</th>\n",
       "      <th>inflation</th>\n",
       "      <th>life_expec</th>\n",
       "      <th>total_fer</th>\n",
       "      <th>gdpp</th>\n",
       "    </tr>\n",
       "  </thead>\n",
       "  <tbody>\n",
       "    <tr>\n",
       "      <th>0</th>\n",
       "      <td>Afghanistan</td>\n",
       "      <td>90.2</td>\n",
       "      <td>10.0</td>\n",
       "      <td>7.58</td>\n",
       "      <td>44.9</td>\n",
       "      <td>1610</td>\n",
       "      <td>9.44</td>\n",
       "      <td>56.2</td>\n",
       "      <td>5.82</td>\n",
       "      <td>553</td>\n",
       "    </tr>\n",
       "    <tr>\n",
       "      <th>1</th>\n",
       "      <td>Albania</td>\n",
       "      <td>16.6</td>\n",
       "      <td>28.0</td>\n",
       "      <td>6.55</td>\n",
       "      <td>48.6</td>\n",
       "      <td>9930</td>\n",
       "      <td>4.49</td>\n",
       "      <td>76.3</td>\n",
       "      <td>1.65</td>\n",
       "      <td>4090</td>\n",
       "    </tr>\n",
       "    <tr>\n",
       "      <th>2</th>\n",
       "      <td>Algeria</td>\n",
       "      <td>27.3</td>\n",
       "      <td>38.4</td>\n",
       "      <td>4.17</td>\n",
       "      <td>31.4</td>\n",
       "      <td>12900</td>\n",
       "      <td>16.10</td>\n",
       "      <td>76.5</td>\n",
       "      <td>2.89</td>\n",
       "      <td>4460</td>\n",
       "    </tr>\n",
       "    <tr>\n",
       "      <th>3</th>\n",
       "      <td>Angola</td>\n",
       "      <td>119.0</td>\n",
       "      <td>62.3</td>\n",
       "      <td>2.85</td>\n",
       "      <td>42.9</td>\n",
       "      <td>5900</td>\n",
       "      <td>22.40</td>\n",
       "      <td>60.1</td>\n",
       "      <td>6.16</td>\n",
       "      <td>3530</td>\n",
       "    </tr>\n",
       "    <tr>\n",
       "      <th>4</th>\n",
       "      <td>Antigua and Barbuda</td>\n",
       "      <td>10.3</td>\n",
       "      <td>45.5</td>\n",
       "      <td>6.03</td>\n",
       "      <td>58.9</td>\n",
       "      <td>19100</td>\n",
       "      <td>1.44</td>\n",
       "      <td>76.8</td>\n",
       "      <td>2.13</td>\n",
       "      <td>12200</td>\n",
       "    </tr>\n",
       "  </tbody>\n",
       "</table>\n",
       "</div>"
      ],
      "text/plain": [
       "               country  child_mort  exports  health  imports  income  \\\n",
       "0          Afghanistan        90.2     10.0    7.58     44.9    1610   \n",
       "1              Albania        16.6     28.0    6.55     48.6    9930   \n",
       "2              Algeria        27.3     38.4    4.17     31.4   12900   \n",
       "3               Angola       119.0     62.3    2.85     42.9    5900   \n",
       "4  Antigua and Barbuda        10.3     45.5    6.03     58.9   19100   \n",
       "\n",
       "   inflation  life_expec  total_fer   gdpp  \n",
       "0       9.44        56.2       5.82    553  \n",
       "1       4.49        76.3       1.65   4090  \n",
       "2      16.10        76.5       2.89   4460  \n",
       "3      22.40        60.1       6.16   3530  \n",
       "4       1.44        76.8       2.13  12200  "
      ]
     },
     "execution_count": 4,
     "metadata": {},
     "output_type": "execute_result"
    }
   ],
   "source": [
    "#checking top 5 rows data\n",
    "countries_df.head()"
   ]
  },
  {
   "cell_type": "code",
   "execution_count": 5,
   "metadata": {},
   "outputs": [
    {
     "name": "stdout",
     "output_type": "stream",
     "text": [
      "<class 'pandas.core.frame.DataFrame'>\n",
      "RangeIndex: 167 entries, 0 to 166\n",
      "Data columns (total 10 columns):\n",
      "country       167 non-null object\n",
      "child_mort    167 non-null float64\n",
      "exports       167 non-null float64\n",
      "health        167 non-null float64\n",
      "imports       167 non-null float64\n",
      "income        167 non-null int64\n",
      "inflation     167 non-null float64\n",
      "life_expec    167 non-null float64\n",
      "total_fer     167 non-null float64\n",
      "gdpp          167 non-null int64\n",
      "dtypes: float64(7), int64(2), object(1)\n",
      "memory usage: 13.1+ KB\n"
     ]
    }
   ],
   "source": [
    "#checking for the datatypes and empty rows for each column/variable\n",
    "countries_df.info()"
   ]
  },
  {
   "cell_type": "markdown",
   "metadata": {},
   "source": [
    "##### Seems like there are no blank rows and all the data types look to be as expected"
   ]
  },
  {
   "cell_type": "code",
   "execution_count": 6,
   "metadata": {},
   "outputs": [
    {
     "data": {
      "text/plain": [
       "country       0\n",
       "child_mort    0\n",
       "exports       0\n",
       "health        0\n",
       "imports       0\n",
       "income        0\n",
       "inflation     0\n",
       "life_expec    0\n",
       "total_fer     0\n",
       "gdpp          0\n",
       "dtype: int64"
      ]
     },
     "execution_count": 6,
     "metadata": {},
     "output_type": "execute_result"
    }
   ],
   "source": [
    "#checking for null values\n",
    "countries_df.isnull().sum()"
   ]
  },
  {
   "cell_type": "markdown",
   "metadata": {},
   "source": [
    "##### There are no null values in the entire dataset"
   ]
  },
  {
   "cell_type": "code",
   "execution_count": 7,
   "metadata": {},
   "outputs": [
    {
     "data": {
      "text/plain": [
       "(167, 10)"
      ]
     },
     "execution_count": 7,
     "metadata": {},
     "output_type": "execute_result"
    }
   ],
   "source": [
    "#checking for duplicated rows\n",
    "countries_df.drop_duplicates(inplace=True)\n",
    "countries_df.shape"
   ]
  },
  {
   "cell_type": "markdown",
   "metadata": {},
   "source": [
    "##### No duplicate rows"
   ]
  },
  {
   "cell_type": "code",
   "execution_count": 8,
   "metadata": {},
   "outputs": [
    {
     "data": {
      "text/html": [
       "<div>\n",
       "<style scoped>\n",
       "    .dataframe tbody tr th:only-of-type {\n",
       "        vertical-align: middle;\n",
       "    }\n",
       "\n",
       "    .dataframe tbody tr th {\n",
       "        vertical-align: top;\n",
       "    }\n",
       "\n",
       "    .dataframe thead th {\n",
       "        text-align: right;\n",
       "    }\n",
       "</style>\n",
       "<table border=\"1\" class=\"dataframe\">\n",
       "  <thead>\n",
       "    <tr style=\"text-align: right;\">\n",
       "      <th></th>\n",
       "      <th>child_mort</th>\n",
       "      <th>exports</th>\n",
       "      <th>health</th>\n",
       "      <th>imports</th>\n",
       "      <th>income</th>\n",
       "      <th>inflation</th>\n",
       "      <th>life_expec</th>\n",
       "      <th>total_fer</th>\n",
       "      <th>gdpp</th>\n",
       "    </tr>\n",
       "  </thead>\n",
       "  <tbody>\n",
       "    <tr>\n",
       "      <th>count</th>\n",
       "      <td>167.000000</td>\n",
       "      <td>167.000000</td>\n",
       "      <td>167.000000</td>\n",
       "      <td>167.000000</td>\n",
       "      <td>167.000000</td>\n",
       "      <td>167.000000</td>\n",
       "      <td>167.000000</td>\n",
       "      <td>167.000000</td>\n",
       "      <td>167.000000</td>\n",
       "    </tr>\n",
       "    <tr>\n",
       "      <th>mean</th>\n",
       "      <td>38.270060</td>\n",
       "      <td>41.108976</td>\n",
       "      <td>6.815689</td>\n",
       "      <td>46.890215</td>\n",
       "      <td>17144.688623</td>\n",
       "      <td>7.781832</td>\n",
       "      <td>70.555689</td>\n",
       "      <td>2.947964</td>\n",
       "      <td>12964.155689</td>\n",
       "    </tr>\n",
       "    <tr>\n",
       "      <th>std</th>\n",
       "      <td>40.328931</td>\n",
       "      <td>27.412010</td>\n",
       "      <td>2.746837</td>\n",
       "      <td>24.209589</td>\n",
       "      <td>19278.067698</td>\n",
       "      <td>10.570704</td>\n",
       "      <td>8.893172</td>\n",
       "      <td>1.513848</td>\n",
       "      <td>18328.704809</td>\n",
       "    </tr>\n",
       "    <tr>\n",
       "      <th>min</th>\n",
       "      <td>2.600000</td>\n",
       "      <td>0.109000</td>\n",
       "      <td>1.810000</td>\n",
       "      <td>0.065900</td>\n",
       "      <td>609.000000</td>\n",
       "      <td>-4.210000</td>\n",
       "      <td>32.100000</td>\n",
       "      <td>1.150000</td>\n",
       "      <td>231.000000</td>\n",
       "    </tr>\n",
       "    <tr>\n",
       "      <th>25%</th>\n",
       "      <td>8.250000</td>\n",
       "      <td>23.800000</td>\n",
       "      <td>4.920000</td>\n",
       "      <td>30.200000</td>\n",
       "      <td>3355.000000</td>\n",
       "      <td>1.810000</td>\n",
       "      <td>65.300000</td>\n",
       "      <td>1.795000</td>\n",
       "      <td>1330.000000</td>\n",
       "    </tr>\n",
       "    <tr>\n",
       "      <th>50%</th>\n",
       "      <td>19.300000</td>\n",
       "      <td>35.000000</td>\n",
       "      <td>6.320000</td>\n",
       "      <td>43.300000</td>\n",
       "      <td>9960.000000</td>\n",
       "      <td>5.390000</td>\n",
       "      <td>73.100000</td>\n",
       "      <td>2.410000</td>\n",
       "      <td>4660.000000</td>\n",
       "    </tr>\n",
       "    <tr>\n",
       "      <th>75%</th>\n",
       "      <td>62.100000</td>\n",
       "      <td>51.350000</td>\n",
       "      <td>8.600000</td>\n",
       "      <td>58.750000</td>\n",
       "      <td>22800.000000</td>\n",
       "      <td>10.750000</td>\n",
       "      <td>76.800000</td>\n",
       "      <td>3.880000</td>\n",
       "      <td>14050.000000</td>\n",
       "    </tr>\n",
       "    <tr>\n",
       "      <th>max</th>\n",
       "      <td>208.000000</td>\n",
       "      <td>200.000000</td>\n",
       "      <td>17.900000</td>\n",
       "      <td>174.000000</td>\n",
       "      <td>125000.000000</td>\n",
       "      <td>104.000000</td>\n",
       "      <td>82.800000</td>\n",
       "      <td>7.490000</td>\n",
       "      <td>105000.000000</td>\n",
       "    </tr>\n",
       "  </tbody>\n",
       "</table>\n",
       "</div>"
      ],
      "text/plain": [
       "       child_mort     exports      health     imports         income  \\\n",
       "count  167.000000  167.000000  167.000000  167.000000     167.000000   \n",
       "mean    38.270060   41.108976    6.815689   46.890215   17144.688623   \n",
       "std     40.328931   27.412010    2.746837   24.209589   19278.067698   \n",
       "min      2.600000    0.109000    1.810000    0.065900     609.000000   \n",
       "25%      8.250000   23.800000    4.920000   30.200000    3355.000000   \n",
       "50%     19.300000   35.000000    6.320000   43.300000    9960.000000   \n",
       "75%     62.100000   51.350000    8.600000   58.750000   22800.000000   \n",
       "max    208.000000  200.000000   17.900000  174.000000  125000.000000   \n",
       "\n",
       "        inflation  life_expec   total_fer           gdpp  \n",
       "count  167.000000  167.000000  167.000000     167.000000  \n",
       "mean     7.781832   70.555689    2.947964   12964.155689  \n",
       "std     10.570704    8.893172    1.513848   18328.704809  \n",
       "min     -4.210000   32.100000    1.150000     231.000000  \n",
       "25%      1.810000   65.300000    1.795000    1330.000000  \n",
       "50%      5.390000   73.100000    2.410000    4660.000000  \n",
       "75%     10.750000   76.800000    3.880000   14050.000000  \n",
       "max    104.000000   82.800000    7.490000  105000.000000  "
      ]
     },
     "execution_count": 8,
     "metadata": {},
     "output_type": "execute_result"
    }
   ],
   "source": [
    "#check the mean, quartile values\n",
    "countries_df.describe()"
   ]
  },
  {
   "cell_type": "code",
   "execution_count": 9,
   "metadata": {
    "scrolled": true
   },
   "outputs": [
    {
     "data": {
      "text/plain": [
       "<matplotlib.axes._subplots.AxesSubplot at 0x1691da2b588>"
      ]
     },
     "execution_count": 9,
     "metadata": {},
     "output_type": "execute_result"
    },
    {
     "data": {
      "image/png": "[encoded data removed]",
      "text/plain": [
       "<Figure size 1152x720 with 2 Axes>"
      ]
     },
     "metadata": {},
     "output_type": "display_data"
    }
   ],
   "source": [
    "# Let's see the correlation matrix \n",
    "plt.figure(figsize = (16,10))     # Size of the figure\n",
    "sns.heatmap(countries_df.corr(),annot = True)"
   ]
  },
  {
   "cell_type": "markdown",
   "metadata": {},
   "source": [
    "#### Preparing the dataframe on which pca could be applied"
   ]
  },
  {
   "cell_type": "code",
   "execution_count": 10,
   "metadata": {},
   "outputs": [],
   "source": [
    "#Dropping Country variable as it is Categorical\n",
    "PCA_countries_df = countries_df.drop('country', axis=1)"
   ]
  },
  {
   "cell_type": "code",
   "execution_count": 11,
   "metadata": {},
   "outputs": [],
   "source": [
    "#creating correlation matrix for the given data\n",
    "corrmat = np.corrcoef(PCA_countries_df.transpose())"
   ]
  },
  {
   "cell_type": "code",
   "execution_count": 12,
   "metadata": {},
   "outputs": [],
   "source": [
    "#Make a diagonal matrix with diagonal entry of Matrix corrmat\n",
    "p=np.diagflat(corrmat.diagonal())"
   ]
  },
  {
   "cell_type": "code",
   "execution_count": 13,
   "metadata": {},
   "outputs": [
    {
     "name": "stdout",
     "output_type": "stream",
     "text": [
      "max corr: 0.895571433087532 , min corr:  -0.8866760973367759\n"
     ]
    }
   ],
   "source": [
    "# subtract diagonal entries making all diagonals 0\n",
    "corrmat_diag_zero = corrmat - p\n",
    "print(\"max corr:\",corrmat_diag_zero.max(), \", min corr: \", corrmat_diag_zero.min(),)"
   ]
  },
  {
   "cell_type": "markdown",
   "metadata": {},
   "source": [
    "##### Variables seem to be highly correlated and hence justified to perform PCA"
   ]
  },
  {
   "cell_type": "markdown",
   "metadata": {},
   "source": [
    "# Model building and evaluation "
   ]
  },
  {
   "cell_type": "code",
   "execution_count": 14,
   "metadata": {},
   "outputs": [],
   "source": [
    "#Dropping Country variable as it is Categorical\n",
    "PCA_countries_df = countries_df.drop('country', axis=1)"
   ]
  },
  {
   "cell_type": "code",
   "execution_count": 15,
   "metadata": {},
   "outputs": [
    {
     "name": "stdout",
     "output_type": "stream",
     "text": [
      "(167, 9)\n",
      "Index(['child_mort', 'exports', 'health', 'imports', 'income', 'inflation',\n",
      "       'life_expec', 'total_fer', 'gdpp'],\n",
      "      dtype='object')\n"
     ]
    }
   ],
   "source": [
    "#Checking the shape and columns of PCA_countries_df\n",
    "print(PCA_countries_df.shape)\n",
    "print(PCA_countries_df.columns)"
   ]
  },
  {
   "cell_type": "markdown",
   "metadata": {},
   "source": [
    "#### Scaling the Variables"
   ]
  },
  {
   "cell_type": "code",
   "execution_count": 16,
   "metadata": {},
   "outputs": [],
   "source": [
    "from sklearn import preprocessing\n",
    "scaler = preprocessing.StandardScaler().fit(PCA_countries_df)\n",
    "PCA_countries_df_scaled = scaler.transform(PCA_countries_df) "
   ]
  },
  {
   "cell_type": "code",
   "execution_count": 17,
   "metadata": {},
   "outputs": [
    {
     "data": {
      "text/plain": [
       "(167, 9)"
      ]
     },
     "execution_count": 17,
     "metadata": {},
     "output_type": "execute_result"
    }
   ],
   "source": [
    "PCA_countries_df_scaled.shape"
   ]
  },
  {
   "cell_type": "markdown",
   "metadata": {},
   "source": [
    "#### Performing PCA for dimensional reduction"
   ]
  },
  {
   "cell_type": "code",
   "execution_count": 18,
   "metadata": {},
   "outputs": [],
   "source": [
    "#Improting the PCA module\n",
    "from sklearn.decomposition import PCA\n",
    "pca = PCA(svd_solver='randomized', random_state=42)"
   ]
  },
  {
   "cell_type": "code",
   "execution_count": 19,
   "metadata": {},
   "outputs": [
    {
     "data": {
      "text/plain": [
       "PCA(copy=True, iterated_power='auto', n_components=None, random_state=42,\n",
       "  svd_solver='randomized', tol=0.0, whiten=False)"
      ]
     },
     "execution_count": 19,
     "metadata": {},
     "output_type": "execute_result"
    }
   ],
   "source": [
    "#performing the PCA on the PCA_countries_df\n",
    "pca.fit(PCA_countries_df_scaled)"
   ]
  },
  {
   "cell_type": "code",
   "execution_count": 20,
   "metadata": {},
   "outputs": [
    {
     "data": {
      "text/plain": [
       "array([0.4595174 , 0.17181626, 0.13004259, 0.11053162, 0.07340211,\n",
       "       0.02484235, 0.0126043 , 0.00981282, 0.00743056])"
      ]
     },
     "execution_count": 20,
     "metadata": {},
     "output_type": "execute_result"
    }
   ],
   "source": [
    "pca.explained_variance_ratio_"
   ]
  },
  {
   "cell_type": "code",
   "execution_count": 21,
   "metadata": {},
   "outputs": [
    {
     "data": {
      "text/plain": [
       "(167, 4)"
      ]
     },
     "execution_count": 21,
     "metadata": {},
     "output_type": "execute_result"
    }
   ],
   "source": [
    "pca_85_info = PCA(0.85)\n",
    "pca_85_info_scaled = pca_85_info.fit_transform(PCA_countries_df_scaled)\n",
    "pca_85_info_scaled.shape"
   ]
  },
  {
   "cell_type": "markdown",
   "metadata": {},
   "source": [
    "#### Choosing 4 variables as it doesn't make sense to retain more 50% of original variables"
   ]
  },
  {
   "cell_type": "markdown",
   "metadata": {},
   "source": [
    "#### Scree-Plot"
   ]
  },
  {
   "cell_type": "code",
   "execution_count": 22,
   "metadata": {},
   "outputs": [
    {
     "data": {
      "image/png": "[encoded data removed]",
      "text/plain": [
       "<Figure size 864x576 with 1 Axes>"
      ]
     },
     "metadata": {},
     "output_type": "display_data"
    }
   ],
   "source": [
    "#Making the screeplot - plotting the cumulative variance against the number of components\n",
    "%matplotlib inline\n",
    "fig = plt.figure(figsize = (12,8))\n",
    "plt.plot(np.cumsum(pca.explained_variance_ratio_))\n",
    "plt.xlabel('number of components')\n",
    "plt.ylabel('cumulative explained variance')\n",
    "plt.show()"
   ]
  },
  {
   "cell_type": "code",
   "execution_count": 23,
   "metadata": {},
   "outputs": [],
   "source": [
    "from sklearn.decomposition import IncrementalPCA\n",
    "pca_4_comp = PCA(n_components=4)"
   ]
  },
  {
   "cell_type": "markdown",
   "metadata": {},
   "source": [
    "##### Not using incremental PCA as the dataset is small in size"
   ]
  },
  {
   "cell_type": "code",
   "execution_count": 24,
   "metadata": {},
   "outputs": [
    {
     "data": {
      "text/plain": [
       "PCA(copy=True, iterated_power='auto', n_components=4, random_state=None,\n",
       "  svd_solver='auto', tol=0.0, whiten=False)"
      ]
     },
     "execution_count": 24,
     "metadata": {},
     "output_type": "execute_result"
    }
   ],
   "source": [
    "pca_4_comp"
   ]
  },
  {
   "cell_type": "markdown",
   "metadata": {},
   "source": [
    "### Basis transformation - getting the data onto our PCs"
   ]
  },
  {
   "cell_type": "code",
   "execution_count": 25,
   "metadata": {},
   "outputs": [
    {
     "data": {
      "text/plain": [
       "(167, 4)"
      ]
     },
     "execution_count": 25,
     "metadata": {},
     "output_type": "execute_result"
    }
   ],
   "source": [
    "transformed_pca = pca_4_comp.fit_transform(PCA_countries_df_scaled)\n",
    "transformed_pca.shape"
   ]
  },
  {
   "cell_type": "markdown",
   "metadata": {},
   "source": [
    "##### Creating correlation matrix for the principal components - we expect little to no correlation\n"
   ]
  },
  {
   "cell_type": "code",
   "execution_count": 26,
   "metadata": {},
   "outputs": [],
   "source": [
    "#creating correlation matrix for the principal components\n",
    "corrmat = np.corrcoef(transformed_pca.transpose())"
   ]
  },
  {
   "cell_type": "code",
   "execution_count": 27,
   "metadata": {},
   "outputs": [
    {
     "data": {
      "text/plain": [
       "<matplotlib.axes._subplots.AxesSubplot at 0x1691f1b58d0>"
      ]
     },
     "execution_count": 27,
     "metadata": {},
     "output_type": "execute_result"
    },
    {
     "data": {
      "image/png": "[encoded data removed]",
      "text/plain": [
       "<Figure size 720x540 with 2 Axes>"
      ]
     },
     "metadata": {},
     "output_type": "display_data"
    }
   ],
   "source": [
    "#plotting the correlation matrix\n",
    "%matplotlib inline\n",
    "plt.figure(figsize = (10,7.5))\n",
    "sns.heatmap(corrmat,annot = True)"
   ]
  },
  {
   "cell_type": "code",
   "execution_count": 28,
   "metadata": {},
   "outputs": [
    {
     "name": "stdout",
     "output_type": "stream",
     "text": [
      "max corr: 2.6231034152768506e-16 , min corr:  -1.6526831488035391e-16\n"
     ]
    }
   ],
   "source": [
    "# 1s -> 0s in diagonals\n",
    "corrmat_nodiag = corrmat - np.diagflat(corrmat.diagonal())\n",
    "print(\"max corr:\",corrmat_nodiag.max(), \", min corr: \", corrmat_nodiag.min(),)\n",
    "# we see that correlations are indeed very close to 0"
   ]
  },
  {
   "cell_type": "markdown",
   "metadata": {},
   "source": [
    "#### Purpose of using PCA is solved as it has reduced the dimensions as well as the correlation is almost zero"
   ]
  },
  {
   "cell_type": "code",
   "execution_count": 29,
   "metadata": {},
   "outputs": [
    {
     "data": {
      "text/plain": [
       "array([[-2.91302459e+00,  9.56205755e-02, -7.18118495e-01,\n",
       "         1.00525464e+00],\n",
       "       [ 4.29911330e-01, -5.88155666e-01, -3.33485505e-01,\n",
       "        -1.16105859e+00],\n",
       "       [-2.85225077e-01, -4.55174413e-01,  1.22150481e+00,\n",
       "        -8.68114503e-01],\n",
       "       [-2.93242265e+00,  1.69555507e+00,  1.52504374e+00,\n",
       "         8.39625014e-01],\n",
       "       [ 1.03357587e+00,  1.36658709e-01, -2.25720917e-01,\n",
       "        -8.47062687e-01],\n",
       "       [ 2.24072616e-02, -1.77918658e+00,  8.69997116e-01,\n",
       "        -3.69668667e-02],\n",
       "       [-1.01583737e-01, -5.68251724e-01,  2.42091816e-01,\n",
       "        -1.46626576e+00],\n",
       "       [ 2.34216461e+00, -1.98845915e+00,  1.90344188e-01,\n",
       "         1.10503778e+00],\n",
       "       [ 2.97376366e+00, -7.34688659e-01, -5.19766356e-01,\n",
       "         1.20544210e+00],\n",
       "       [-1.81486997e-01, -4.02865873e-01,  8.67458743e-01,\n",
       "        -4.38772983e-01],\n",
       "       [ 1.26874386e+00, -6.56588363e-01, -4.88097616e-01,\n",
       "         5.56335553e-02],\n",
       "       [ 1.67099640e+00,  5.61162493e-01,  9.91258303e-01,\n",
       "        -2.07080475e-01],\n",
       "       [-1.12385093e+00, -9.61397405e-01,  5.26614801e-01,\n",
       "        -1.19720139e+00],\n",
       "       [ 1.08137420e+00, -4.81969530e-01, -6.64355198e-01,\n",
       "        -5.22505233e-01],\n",
       "       [ 5.80025152e-01,  5.35326834e-01,  4.86227511e-01,\n",
       "        -1.03527542e+00],\n",
       "       [ 3.14378596e+00,  6.63547921e-01, -6.45228094e-01,\n",
       "         1.09489775e+00],\n",
       "       [ 2.11255447e-01,  6.99242662e-01, -2.75560900e-01,\n",
       "        -1.09562692e+00],\n",
       "       [-2.67231388e+00,  4.18172125e-01, -2.57368473e-01,\n",
       "         2.78672434e-01],\n",
       "       [-1.56570962e-01,  7.77395617e-01, -2.77343559e-01,\n",
       "        -1.03865011e+00],\n",
       "       [-7.93851561e-01, -1.20261085e-01,  4.00741495e-01,\n",
       "        -7.24703290e-01],\n",
       "       [ 9.95867143e-01, -9.71888439e-01, -1.52832760e+00,\n",
       "        -6.20884792e-01],\n",
       "       [-8.82087639e-01,  4.57368180e-01, -5.84632949e-01,\n",
       "         4.06160810e-01],\n",
       "       [ 1.40781361e-01, -2.15107731e+00, -1.72635153e-01,\n",
       "        -1.66919647e-01],\n",
       "       [ 2.46008609e+00,  1.64540436e-02,  3.01984039e+00,\n",
       "         7.76840751e-01],\n",
       "       [ 9.06594515e-01,  3.02776054e-02, -4.71204036e-01,\n",
       "        -9.94661396e-01],\n",
       "       [-3.12205344e+00,  3.87749688e-02, -4.55750797e-01,\n",
       "         1.08091762e+00],\n",
       "       [-2.89897068e+00, -4.22663328e-01, -1.34741345e+00,\n",
       "         1.82147410e+00],\n",
       "       [-5.82411867e-01,  8.94820332e-01, -4.98704660e-01,\n",
       "        -8.05233622e-01],\n",
       "       [-2.80790857e+00,  7.86488969e-02, -3.42961116e-01,\n",
       "         5.43556844e-01],\n",
       "       [ 2.54363055e+00, -1.72709470e+00, -3.96281023e-01,\n",
       "         1.33685255e+00],\n",
       "       [-1.55801452e-01,  3.51235458e-01, -2.92086671e-01,\n",
       "        -1.34374110e+00],\n",
       "       [-3.96496402e+00,  3.86619319e-01, -3.23556922e-01,\n",
       "         9.18301019e-01],\n",
       "       [-3.55755520e+00,  1.28912809e+00, -1.03015433e-01,\n",
       "         1.20840642e+00],\n",
       "       [ 9.51656055e-01, -1.07642827e+00,  1.50820820e-01,\n",
       "        -4.36634193e-01],\n",
       "       [ 5.74819803e-02, -1.18999652e+00,  4.27315488e-01,\n",
       "        -1.27717888e+00],\n",
       "       [ 1.21146120e-01, -1.76890914e+00, -2.45605887e-01,\n",
       "        -7.15208871e-01],\n",
       "       [-2.09355643e+00,  3.43600988e-01, -3.28381272e-01,\n",
       "        -1.18947248e-01],\n",
       "       [-3.17337012e+00,  1.05038163e+00, -1.21915456e-03,\n",
       "         1.57421016e+00],\n",
       "       [-1.72567641e+00,  2.17634895e+00,  1.49271940e+00,\n",
       "        -1.38592628e-01],\n",
       "       [ 9.37826615e-01, -1.35047238e+00, -8.21129661e-01,\n",
       "        -2.59854592e-01],\n",
       "       [-2.58170623e+00,  1.20787342e+00, -2.33066157e-01,\n",
       "         6.65293359e-01],\n",
       "       [ 1.14886344e+00, -8.44812046e-01, -4.09712564e-01,\n",
       "        -6.22922553e-01],\n",
       "       [ 2.17445492e+00, -4.51044737e-03,  2.57319634e-01,\n",
       "        -3.11856544e-01],\n",
       "       [ 2.05326329e+00,  4.23198280e-01, -5.43335682e-01,\n",
       "        -4.11735959e-01],\n",
       "       [ 3.01049182e+00, -8.65548729e-01, -3.35752167e-01,\n",
       "         1.78722278e+00],\n",
       "       [-2.31102923e-01, -8.80641302e-01, -3.67363816e-02,\n",
       "        -6.53432853e-01],\n",
       "       [ 9.61833240e-03, -1.04522097e+00, -2.73292441e-01,\n",
       "        -4.88513719e-01],\n",
       "       [-8.48186699e-01, -8.19818902e-01,  5.83289752e-01,\n",
       "        -7.45230918e-01],\n",
       "       [ 8.18678445e-02, -5.67803943e-01, -5.75877586e-01,\n",
       "        -9.76520622e-01],\n",
       "       [-1.29342284e+00,  2.36369455e+00,  1.77933449e+00,\n",
       "         1.73724419e+00],\n",
       "       [-2.47469590e+00, -6.18025236e-01,  8.03496573e-01,\n",
       "        -4.88256238e-01],\n",
       "       [ 1.65908340e+00,  1.02156447e+00, -1.11116210e-01,\n",
       "        -8.63149640e-01],\n",
       "       [-1.88828409e-01,  1.07176458e+00, -1.90494207e-01,\n",
       "        -9.79835597e-01],\n",
       "       [ 2.45896019e+00, -1.07614294e+00, -1.00439032e-01,\n",
       "         8.99328358e-01],\n",
       "       [ 2.25427080e+00, -1.86663813e+00, -7.11988312e-01,\n",
       "         1.23000548e+00],\n",
       "       [-1.42171455e+00,  3.19723358e-01,  1.53753336e+00,\n",
       "         1.87759190e-01],\n",
       "       [-2.21366958e+00,  2.23495896e-01, -3.93111292e-01,\n",
       "         2.89914182e-01],\n",
       "       [ 3.21942207e-01, -5.18255225e-01, -9.73687319e-01,\n",
       "        -4.67061703e-01],\n",
       "       [ 2.67142195e+00, -1.27360990e+00, -6.56170834e-01,\n",
       "         1.12599297e+00],\n",
       "       [-2.05416693e+00,  3.80034393e-01,  4.19654109e-01,\n",
       "         9.09709651e-02],\n",
       "       [ 1.77949294e+00, -1.76539693e+00, -6.84197774e-01,\n",
       "         2.62701918e-01],\n",
       "       [ 1.45504799e-01, -4.31336366e-01, -4.70467998e-01,\n",
       "        -9.71167871e-01],\n",
       "       [-6.63503125e-01, -6.13910837e-01, -3.32673741e-01,\n",
       "        -4.45317091e-01],\n",
       "       [-2.96952947e+00,  7.28533786e-01,  3.91038978e-01,\n",
       "         6.66549494e-01],\n",
       "       [-2.83361647e+00, -9.11281950e-02, -1.20517398e+00,\n",
       "         1.13304489e+00],\n",
       "       [-3.22781465e-01,  1.36134136e+00, -4.70512158e-01,\n",
       "        -8.50455474e-01],\n",
       "       [-4.40971727e+00,  1.74223049e+00, -1.46280874e+00,\n",
       "         1.79359222e+00],\n",
       "       [ 1.83916013e+00,  1.27296493e+00, -4.62631365e-01,\n",
       "        -7.79275693e-01],\n",
       "       [ 2.48092396e+00, -6.34701926e-01,  1.03795226e-01,\n",
       "         9.19853150e-01],\n",
       "       [-1.34282579e+00, -5.35138946e-01,  4.69946406e-01,\n",
       "        -7.88293802e-01],\n",
       "       [-9.54750124e-01, -7.32361786e-01,  1.37601104e+00,\n",
       "        -1.14368788e+00],\n",
       "       [-1.06461193e-03, -1.33434959e+00,  1.02280513e+00,\n",
       "        -7.54546672e-01],\n",
       "       [-1.02922816e+00, -2.83269323e-01,  1.92226813e-01,\n",
       "         5.64140593e-01],\n",
       "       [ 3.66862804e+00,  1.72949317e+00, -5.23988781e-01,\n",
       "         9.89974650e-01],\n",
       "       [ 1.48531666e+00, -1.04922436e+00,  7.67905341e-02,\n",
       "         3.20989179e-01],\n",
       "       [ 2.16580995e+00, -1.77248548e+00, -2.84183535e-01,\n",
       "         5.16711898e-01],\n",
       "       [ 1.86093002e-02, -2.38961304e-01,  3.33749817e-01,\n",
       "        -1.22245645e+00],\n",
       "       [ 2.26588199e+00, -2.43559383e+00, -2.29698666e-01,\n",
       "         7.12566269e-01],\n",
       "       [ 1.60142643e-01,  5.41065172e-01, -5.57529759e-01,\n",
       "        -3.76534243e-01],\n",
       "       [-2.93346500e-01, -2.37525434e-01,  1.49242624e+00,\n",
       "        -4.53078232e-01],\n",
       "       [-1.87470247e+00, -1.71029967e-01, -2.49557050e-01,\n",
       "        -2.85554533e-01],\n",
       "       [-1.23921686e+00,  3.69138411e-01, -2.36827382e+00,\n",
       "         5.92231024e-01],\n",
       "       [ 2.46565870e+00,  8.80497785e-02,  2.65226801e+00,\n",
       "         7.08884420e-01],\n",
       "       [-3.39969880e-01,  1.29819641e+00, -4.27860991e-01,\n",
       "        -8.17320570e-01],\n",
       "       [-1.52776995e+00,  5.45786891e-01,  1.37158928e-01,\n",
       "        -4.15581903e-01],\n",
       "       [ 1.18883984e+00,  1.62040035e-01, -4.88255279e-01,\n",
       "        -9.30854536e-01],\n",
       "       [ 1.17199076e+00, -2.56295112e-01, -6.18992305e-01,\n",
       "        -1.05418607e+00],\n",
       "       [-1.80315140e+00,  2.03785098e+00, -2.49688460e+00,\n",
       "         1.07219875e+00],\n",
       "       [-1.77358023e+00,  1.05339867e+00, -2.39044031e+00,\n",
       "         1.17956908e+00],\n",
       "       [ 8.18943051e-01,  3.89841660e-01,  1.48989162e+00,\n",
       "        -6.19545661e-01],\n",
       "       [ 1.40978812e+00,  7.29833198e-01, -4.08006476e-01,\n",
       "        -7.64677732e-01],\n",
       "       [ 6.91775496e+00,  4.84984369e+00,  1.00183722e+00,\n",
       "         3.12964255e+00],\n",
       "       [ 7.33210319e-01, -9.48674314e-02, -6.57276693e-01,\n",
       "        -1.13823279e+00],\n",
       "       [-2.13600867e+00,  3.42733042e-01,  2.34842232e-01,\n",
       "        -3.17468942e-01],\n",
       "       [-2.97988525e+00,  2.16622419e-01, -2.04596211e-01,\n",
       "         8.39108028e-01],\n",
       "       [ 1.23082842e+00,  1.60174864e+00,  5.38719368e-01,\n",
       "        -1.08637235e+00],\n",
       "       [ 1.10860101e+00,  1.00931426e+00, -2.69979852e-01,\n",
       "        -1.08907107e+00],\n",
       "       [-3.41225513e+00,  5.61468514e-01, -2.48615098e-01,\n",
       "         1.07336391e+00],\n",
       "       [ 3.67954260e+00,  4.76548605e+00, -1.02131344e+00,\n",
       "        -5.01107355e-01],\n",
       "       [-1.95392747e+00,  1.38338452e+00,  7.31461600e-01,\n",
       "         1.95412788e-01],\n",
       "       [ 8.99775055e-01,  4.16479781e-01, -3.81759043e-01,\n",
       "        -1.07218433e+00],\n",
       "       [-3.80928795e-01,  1.01773629e-01, -2.71408481e+00,\n",
       "         7.71973760e-01],\n",
       "       [ 5.09539453e-01,  1.61658340e-01, -1.56585938e+00,\n",
       "        -4.18362236e-01],\n",
       "       [-9.44975538e-01,  5.29799562e-01,  1.85441886e+00,\n",
       "        -3.94165588e-01],\n",
       "       [ 1.02668389e+00, -2.57641566e-01, -1.10361044e+00,\n",
       "        -7.15644105e-01],\n",
       "       [-2.32870156e-01, -2.81027769e-01, -2.61356785e-01,\n",
       "        -1.07639425e+00],\n",
       "       [-2.92054051e+00,  8.93270294e-01, -2.58704356e-01,\n",
       "         6.33835111e-01],\n",
       "       [-1.83719774e+00, -1.61366899e+00,  1.00948944e+00,\n",
       "        -1.12321692e+00],\n",
       "       [-1.04337471e+00,  1.00284112e+00, -7.32535356e-01,\n",
       "         9.14828359e-02],\n",
       "       [-1.30708985e+00, -7.89048631e-01,  3.89811057e-01,\n",
       "        -7.53699430e-01],\n",
       "       [ 3.37915727e+00,  1.15702442e-01, -7.38130024e-01,\n",
       "         1.54303520e+00],\n",
       "       [ 1.81574666e+00, -1.58472369e+00, -2.61355002e-01,\n",
       "         7.35652166e-01],\n",
       "       [-3.45016774e+00,  9.69922452e-01, -5.81452133e-01,\n",
       "         1.12658091e+00],\n",
       "       [-4.91206615e+00, -9.44986846e-02,  6.11015827e+00,\n",
       "         2.41242140e+00],\n",
       "       [ 3.72119513e+00, -1.44725498e+00,  8.88029059e-01,\n",
       "         2.76433853e+00],\n",
       "       [ 1.12738665e+00,  4.91611136e-01,  2.13350091e+00,\n",
       "        -1.76492480e-01],\n",
       "       [-2.36034718e+00, -4.79399646e-01,  1.01355540e+00,\n",
       "        -4.21709938e-01],\n",
       "       [ 1.16378429e+00,  1.11527620e+00, -7.90119264e-01,\n",
       "        -5.45194408e-01],\n",
       "       [ 1.17846224e-01,  3.61031140e-01, -4.66723186e-02,\n",
       "        -9.46838629e-01],\n",
       "       [-2.06354519e-02, -1.08661741e+00,  4.04348774e-01,\n",
       "        -1.06962172e+00],\n",
       "       [-7.82745871e-01, -9.64980905e-02,  3.09094042e-01,\n",
       "        -1.08235769e+00],\n",
       "       [ 1.21782754e+00, -6.59168961e-01, -3.11232316e-01,\n",
       "        -6.95175223e-01],\n",
       "       [ 1.81406748e+00, -1.45088654e+00, -9.42487215e-01,\n",
       "         1.93791564e-01],\n",
       "       [ 4.24229634e+00, -1.95603674e-01,  3.64387511e+00,\n",
       "         2.38981058e+00],\n",
       "       [ 5.72792704e-01, -6.37384843e-01,  8.63507590e-02,\n",
       "        -1.02983930e+00],\n",
       "       [ 1.63761544e-01, -1.06667848e+00,  1.09051847e+00,\n",
       "        -6.44874077e-01],\n",
       "       [-1.67970356e+00, -1.00162862e+00, -1.46843591e+00,\n",
       "         6.73220742e-01],\n",
       "       [-5.62897632e-01, -2.21043960e-02, -6.38390549e-01,\n",
       "        -5.32651338e-01],\n",
       "       [ 8.55935813e-01, -1.83440759e-01,  1.90307225e+00,\n",
       "         2.02258954e-01],\n",
       "       [-1.91217031e+00,  9.15599347e-02, -5.06958976e-01,\n",
       "         2.76252708e-02],\n",
       "       [ 8.32420187e-01, -8.69325996e-01, -1.01769287e+00,\n",
       "        -5.03134235e-01],\n",
       "       [ 1.60259775e+00,  2.93912057e+00, -3.86691417e-01,\n",
       "        -1.40037119e+00],\n",
       "       [-3.38162479e+00, -2.36301516e-01, -1.36425356e+00,\n",
       "         2.58197644e+00],\n",
       "       [ 5.78337630e+00,  6.68209028e+00,  6.54420074e-01,\n",
       "         8.96376420e-02],\n",
       "       [ 2.02972370e+00,  1.05040745e+00, -8.54978429e-01,\n",
       "        -3.71447784e-01],\n",
       "       [ 2.27949171e+00,  1.95275226e-01, -8.01535444e-01,\n",
       "        -6.73604956e-02],\n",
       "       [-8.06209136e-01,  1.30349059e+00, -1.22922699e+00,\n",
       "        -4.23618753e-02],\n",
       "       [-1.19183736e+00, -5.56757164e-01, -7.17965953e-01,\n",
       "         5.50205983e-01],\n",
       "       [ 1.91806245e+00, -4.27468245e-01,  1.40741993e-01,\n",
       "        -4.72252955e-01],\n",
       "       [ 2.01919721e+00, -1.78438246e+00, -3.80316498e-01,\n",
       "         2.64389054e-01],\n",
       "       [-5.75572155e-01, -9.97551478e-01,  1.75224072e+00,\n",
       "        -1.37803039e+00],\n",
       "       [ 2.66234652e-02, -1.60640815e-02, -3.85463343e-02,\n",
       "        -1.22484232e+00],\n",
       "       [-2.31942387e+00, -7.69407328e-01,  7.32740073e-01,\n",
       "         4.92083043e-01],\n",
       "       [ 1.71674731e-01, -9.48076409e-02,  1.20264550e-02,\n",
       "        -3.76833834e-01],\n",
       "       [ 2.81832286e+00, -9.14480968e-01, -1.01807170e-01,\n",
       "         1.24227931e+00],\n",
       "       [ 4.08854413e+00, -4.29461909e-01, -2.61547109e-01,\n",
       "         2.30708671e+00],\n",
       "       [-1.24446436e+00, -2.89174316e-02, -1.48159392e-01,\n",
       "        -4.81045924e-01],\n",
       "       [-2.55404919e+00, -2.15027956e-01, -8.84904657e-02,\n",
       "         4.62226441e-01],\n",
       "       [ 9.26092707e-01,  8.28230655e-01,  3.42015609e-01,\n",
       "        -1.59519938e+00],\n",
       "       [-2.37197047e+00, -1.17751295e+00,  3.98922832e-01,\n",
       "         1.15804501e+00],\n",
       "       [-1.99764225e+00,  9.58361586e-01, -1.21803661e+00,\n",
       "         5.60916606e-01],\n",
       "       [-7.55008538e-01, -8.78938568e-02, -4.23287693e-01,\n",
       "        -8.54637175e-01],\n",
       "       [ 6.02231612e-01,  1.73435708e-01, -2.43158206e-01,\n",
       "        -1.11793721e+00],\n",
       "       [ 4.01437705e-01, -1.41198973e+00,  2.25685264e-01,\n",
       "        -5.63294782e-01],\n",
       "       [-4.63936165e-01,  1.29187347e+00,  5.99238344e-01,\n",
       "        -9.39834172e-01],\n",
       "       [-2.85483624e+00, -3.52082382e-01, -7.00859396e-01,\n",
       "         1.29627050e+00],\n",
       "       [ 3.02299800e-01, -9.75710669e-02, -9.06375587e-02,\n",
       "        -8.79675120e-01],\n",
       "       [ 2.42714125e+00,  1.15181307e+00,  1.82853811e+00,\n",
       "         2.76080223e-01],\n",
       "       [ 2.06798993e+00, -1.53531349e+00, -2.52772015e-01,\n",
       "         7.91524403e-01],\n",
       "       [ 2.64120583e+00, -2.99736446e+00, -1.72187786e+00,\n",
       "         2.82711027e+00],\n",
       "       [ 6.17312598e-01, -1.43047723e+00, -2.44436640e-01,\n",
       "        -3.58717593e-01],\n",
       "       [-8.53528944e-01, -6.54485112e-01,  6.19884667e-01,\n",
       "        -7.22182872e-01],\n",
       "       [-8.20631131e-01,  6.39570072e-01, -3.89923152e-01,\n",
       "        -7.06595241e-01],\n",
       "       [-5.51035564e-01, -1.23388618e+00,  3.10135006e+00,\n",
       "        -1.15311025e-01],\n",
       "       [ 4.98524385e-01,  1.39074432e+00, -2.38526113e-01,\n",
       "        -1.07409791e+00],\n",
       "       [-1.88745106e+00, -1.09453015e-01,  1.10975159e+00,\n",
       "         5.62567749e-02],\n",
       "       [-2.86406392e+00,  4.85997985e-01,  2.23166581e-01,\n",
       "         8.16364358e-01]])"
      ]
     },
     "execution_count": 29,
     "metadata": {},
     "output_type": "execute_result"
    }
   ],
   "source": [
    "transformed_pca"
   ]
  },
  {
   "cell_type": "code",
   "execution_count": 30,
   "metadata": {},
   "outputs": [
    {
     "data": {
      "text/html": [
       "<div>\n",
       "<style scoped>\n",
       "    .dataframe tbody tr th:only-of-type {\n",
       "        vertical-align: middle;\n",
       "    }\n",
       "\n",
       "    .dataframe tbody tr th {\n",
       "        vertical-align: top;\n",
       "    }\n",
       "\n",
       "    .dataframe thead th {\n",
       "        text-align: right;\n",
       "    }\n",
       "</style>\n",
       "<table border=\"1\" class=\"dataframe\">\n",
       "  <thead>\n",
       "    <tr style=\"text-align: right;\">\n",
       "      <th></th>\n",
       "      <th>PC1</th>\n",
       "      <th>PC2</th>\n",
       "      <th>PC3</th>\n",
       "      <th>PC4</th>\n",
       "    </tr>\n",
       "  </thead>\n",
       "  <tbody>\n",
       "    <tr>\n",
       "      <th>0</th>\n",
       "      <td>-2.913025</td>\n",
       "      <td>0.095621</td>\n",
       "      <td>-0.718118</td>\n",
       "      <td>1.005255</td>\n",
       "    </tr>\n",
       "    <tr>\n",
       "      <th>1</th>\n",
       "      <td>0.429911</td>\n",
       "      <td>-0.588156</td>\n",
       "      <td>-0.333486</td>\n",
       "      <td>-1.161059</td>\n",
       "    </tr>\n",
       "    <tr>\n",
       "      <th>2</th>\n",
       "      <td>-0.285225</td>\n",
       "      <td>-0.455174</td>\n",
       "      <td>1.221505</td>\n",
       "      <td>-0.868115</td>\n",
       "    </tr>\n",
       "    <tr>\n",
       "      <th>3</th>\n",
       "      <td>-2.932423</td>\n",
       "      <td>1.695555</td>\n",
       "      <td>1.525044</td>\n",
       "      <td>0.839625</td>\n",
       "    </tr>\n",
       "    <tr>\n",
       "      <th>4</th>\n",
       "      <td>1.033576</td>\n",
       "      <td>0.136659</td>\n",
       "      <td>-0.225721</td>\n",
       "      <td>-0.847063</td>\n",
       "    </tr>\n",
       "  </tbody>\n",
       "</table>\n",
       "</div>"
      ],
      "text/plain": [
       "        PC1       PC2       PC3       PC4\n",
       "0 -2.913025  0.095621 -0.718118  1.005255\n",
       "1  0.429911 -0.588156 -0.333486 -1.161059\n",
       "2 -0.285225 -0.455174  1.221505 -0.868115\n",
       "3 -2.932423  1.695555  1.525044  0.839625\n",
       "4  1.033576  0.136659 -0.225721 -0.847063"
      ]
     },
     "execution_count": 30,
     "metadata": {},
     "output_type": "execute_result"
    }
   ],
   "source": [
    "transformed_pca_df = pd.DataFrame(transformed_pca, columns=['PC1', 'PC2', 'PC3', 'PC4'])\n",
    "transformed_pca_df.head()"
   ]
  },
  {
   "cell_type": "code",
   "execution_count": 31,
   "metadata": {},
   "outputs": [
    {
     "data": {
      "text/plain": [
       "(167, 4)"
      ]
     },
     "execution_count": 31,
     "metadata": {},
     "output_type": "execute_result"
    }
   ],
   "source": [
    "transformed_pca_df.shape"
   ]
  },
  {
   "cell_type": "markdown",
   "metadata": {},
   "source": [
    "#### Treating the Outliers"
   ]
  },
  {
   "cell_type": "code",
   "execution_count": 32,
   "metadata": {},
   "outputs": [
    {
     "data": {
      "image/png": "[encoded data removed]",
      "text/plain": [
       "<Figure size 432x288 with 1 Axes>"
      ]
     },
     "metadata": {},
     "output_type": "display_data"
    }
   ],
   "source": [
    "# Outlier Analysis\n",
    "plt.boxplot(transformed_pca_df.PC1)\n",
    "Q1 = transformed_pca_df.PC1.quantile(0.25)\n",
    "Q3 = transformed_pca_df.PC1.quantile(0.75)\n",
    "IQR = Q3 - Q1\n",
    "transformed_pca_df = transformed_pca_df[(transformed_pca_df.PC1 >= Q1 - 1.5*IQR) & \\\n",
    "                                          (transformed_pca_df.PC1 <= Q3 + 1.5*IQR)]"
   ]
  },
  {
   "cell_type": "code",
   "execution_count": 33,
   "metadata": {},
   "outputs": [
    {
     "data": {
      "text/plain": [
       "(165, 4)"
      ]
     },
     "execution_count": 33,
     "metadata": {},
     "output_type": "execute_result"
    }
   ],
   "source": [
    "transformed_pca_df.shape"
   ]
  },
  {
   "cell_type": "code",
   "execution_count": 34,
   "metadata": {},
   "outputs": [
    {
     "data": {
      "image/png": "[encoded data removed]",
      "text/plain": [
       "<Figure size 432x288 with 1 Axes>"
      ]
     },
     "metadata": {},
     "output_type": "display_data"
    }
   ],
   "source": [
    "plt.boxplot(transformed_pca_df.PC2)\n",
    "Q1 = transformed_pca_df.PC2.quantile(0.25)\n",
    "Q3 = transformed_pca_df.PC2.quantile(0.75)\n",
    "IQR = Q3 - Q1\n",
    "transformed_pca_df = transformed_pca_df[(transformed_pca_df.PC2 >= Q1 - 1.5*IQR) & \\\n",
    "                                          (transformed_pca_df.PC2 <= Q3 + 1.5*IQR)]"
   ]
  },
  {
   "cell_type": "code",
   "execution_count": 35,
   "metadata": {},
   "outputs": [
    {
     "data": {
      "text/plain": [
       "(162, 4)"
      ]
     },
     "execution_count": 35,
     "metadata": {},
     "output_type": "execute_result"
    }
   ],
   "source": [
    "transformed_pca_df.shape"
   ]
  },
  {
   "cell_type": "code",
   "execution_count": 36,
   "metadata": {},
   "outputs": [
    {
     "data": {
      "image/png": "[encoded data removed]",
      "text/plain": [
       "<Figure size 432x288 with 1 Axes>"
      ]
     },
     "metadata": {},
     "output_type": "display_data"
    }
   ],
   "source": [
    "plt.boxplot(transformed_pca_df.PC3)\n",
    "Q1 = transformed_pca_df.PC3.quantile(0.25)\n",
    "Q3 = transformed_pca_df.PC3.quantile(0.75)\n",
    "IQR = Q3 - Q1\n",
    "transformed_pca_df = transformed_pca_df[(transformed_pca_df.PC3 >= Q1 - 1.5*IQR) & \\\n",
    "                                          (transformed_pca_df.PC3 <= Q3 + 1.5*IQR)]"
   ]
  },
  {
   "cell_type": "code",
   "execution_count": 37,
   "metadata": {},
   "outputs": [
    {
     "data": {
      "text/plain": [
       "(148, 4)"
      ]
     },
     "execution_count": 37,
     "metadata": {},
     "output_type": "execute_result"
    }
   ],
   "source": [
    "transformed_pca_df.shape"
   ]
  },
  {
   "cell_type": "code",
   "execution_count": 38,
   "metadata": {},
   "outputs": [
    {
     "data": {
      "image/png": "[encoded data removed]",
      "text/plain": [
       "<Figure size 432x288 with 1 Axes>"
      ]
     },
     "metadata": {},
     "output_type": "display_data"
    }
   ],
   "source": [
    "plt.boxplot(transformed_pca_df.PC4)\n",
    "Q1 = transformed_pca_df.PC4.quantile(0.25)\n",
    "Q3 = transformed_pca_df.PC4.quantile(0.75)\n",
    "IQR = Q3 - Q1\n",
    "transformed_pca_df = transformed_pca_df[(transformed_pca_df.PC4 >= Q1 - 1.5*IQR) & \\\n",
    "                                          (transformed_pca_df.PC4 <= Q3 + 1.5*IQR)]"
   ]
  },
  {
   "cell_type": "code",
   "execution_count": 39,
   "metadata": {},
   "outputs": [
    {
     "data": {
      "text/plain": [
       "(147, 4)"
      ]
     },
     "execution_count": 39,
     "metadata": {},
     "output_type": "execute_result"
    }
   ],
   "source": [
    "transformed_pca_df.shape"
   ]
  },
  {
   "cell_type": "code",
   "execution_count": 40,
   "metadata": {},
   "outputs": [
    {
     "data": {
      "text/plain": [
       "(167, 4)"
      ]
     },
     "execution_count": 40,
     "metadata": {},
     "output_type": "execute_result"
    }
   ],
   "source": [
    "transformed_pca_df.shape"
   ]
  },
  {
   "cell_type": "markdown",
   "metadata": {},
   "source": [
    "# Scatter Plot between PC1 and PC2"
   ]
  },
  {
   "cell_type": "code",
   "execution_count": 41,
   "metadata": {},
   "outputs": [
    {
     "data": {
      "image/png": "[encoded data removed]",
      "text/plain": [
       "<Figure size 576x576 with 1 Axes>"
      ]
     },
     "metadata": {},
     "output_type": "display_data"
    }
   ],
   "source": [
    "%matplotlib inline\n",
    "fig = plt.figure(figsize = (8,8))\n",
    "plt.scatter(transformed_pca_df['PC1'], transformed_pca_df['PC2'])\n",
    "plt.xlabel('Principal Component 1')\n",
    "plt.ylabel('Principal Component 2')\n",
    "plt.tight_layout()\n",
    "plt.show()"
   ]
  },
  {
   "cell_type": "markdown",
   "metadata": {},
   "source": [
    "### Can K-Means be applied?\n",
    "### Performing Hopkins Measure to confirm"
   ]
  },
  {
   "cell_type": "code",
   "execution_count": 42,
   "metadata": {},
   "outputs": [],
   "source": [
    "from sklearn.neighbors import NearestNeighbors\n",
    "from random import sample\n",
    "from numpy.random import uniform\n",
    "import numpy as np\n",
    "from math import isnan\n",
    " \n",
    "def hopkins(X):\n",
    "    d = X.shape[1]\n",
    "    #d = len(vars) # columns\n",
    "    n = len(X) # rows\n",
    "    m = int(0.1 * n) \n",
    "    nbrs = NearestNeighbors(n_neighbors=1).fit(X.values)\n",
    " \n",
    "    rand_X = sample(range(0, n, 1), m)\n",
    " \n",
    "    ujd = []\n",
    "    wjd = []\n",
    "    for j in range(0, m):\n",
    "        u_dist, _ = nbrs.kneighbors(uniform(np.amin(X,axis=0),np.amax(X,axis=0),d).reshape(1, -1), 2, return_distance=True)\n",
    "        ujd.append(u_dist[0][1])\n",
    "        w_dist, _ = nbrs.kneighbors(X.iloc[rand_X[j]].values.reshape(1, -1), 2, return_distance=True)\n",
    "        wjd.append(w_dist[0][1])\n",
    " \n",
    "    H = sum(ujd) / (sum(ujd) + sum(wjd))\n",
    "    if isnan(H):\n",
    "        print(ujd, wjd)\n",
    "        H = 0\n",
    " \n",
    "    return H"
   ]
  },
  {
   "cell_type": "code",
   "execution_count": 43,
   "metadata": {},
   "outputs": [
    {
     "data": {
      "text/plain": [
       "0.7317953789585521"
      ]
     },
     "execution_count": 43,
     "metadata": {},
     "output_type": "execute_result"
    }
   ],
   "source": [
    "hopkins(transformed_pca_df)"
   ]
  },
  {
   "cell_type": "markdown",
   "metadata": {},
   "source": [
    "#### Accordingly, we are good to perform K-Means clustering"
   ]
  },
  {
   "cell_type": "markdown",
   "metadata": {},
   "source": [
    "### Silhouette Analysis - To determine the value of K"
   ]
  },
  {
   "cell_type": "code",
   "execution_count": 44,
   "metadata": {},
   "outputs": [],
   "source": [
    "# To perform KMeans clustering \n",
    "from sklearn.cluster import KMeans\n",
    "\n",
    "from sklearn.metrics import silhouette_score\n",
    "sse_ = []\n",
    "for k in range(2, 15):\n",
    "    kmeans = KMeans(n_clusters=k).fit(transformed_pca_df)\n",
    "    sse_.append([k, silhouette_score(transformed_pca_df, kmeans.labels_)])"
   ]
  },
  {
   "cell_type": "code",
   "execution_count": 45,
   "metadata": {},
   "outputs": [
    {
     "data": {
      "text/plain": [
       "[<matplotlib.lines.Line2D at 0x1691f38fd68>]"
      ]
     },
     "execution_count": 45,
     "metadata": {},
     "output_type": "execute_result"
    },
    {
     "data": {
      "image/png": "[encoded data removed]",
      "text/plain": [
       "<Figure size 432x288 with 1 Axes>"
      ]
     },
     "metadata": {},
     "output_type": "display_data"
    }
   ],
   "source": [
    "plt.plot(pd.DataFrame(sse_)[0], pd.DataFrame(sse_)[1])"
   ]
  },
  {
   "cell_type": "markdown",
   "metadata": {},
   "source": [
    "### Sum of Squared Distances"
   ]
  },
  {
   "cell_type": "code",
   "execution_count": 46,
   "metadata": {},
   "outputs": [
    {
     "data": {
      "text/plain": [
       "[<matplotlib.lines.Line2D at 0x1691f32b6d8>]"
      ]
     },
     "execution_count": 46,
     "metadata": {},
     "output_type": "execute_result"
    },
    {
     "data": {
      "image/png": "[encoded data removed]",
      "text/plain": [
       "<Figure size 432x288 with 1 Axes>"
      ]
     },
     "metadata": {},
     "output_type": "display_data"
    }
   ],
   "source": [
    "# sum of squared distances\n",
    "ssd = []\n",
    "for num_clusters in list(range(1,21)):\n",
    "    model_clus = KMeans(n_clusters = num_clusters, max_iter=50)\n",
    "    model_clus.fit(transformed_pca_df)\n",
    "    ssd.append(model_clus.inertia_)\n",
    "\n",
    "plt.plot(ssd)"
   ]
  },
  {
   "cell_type": "markdown",
   "metadata": {},
   "source": [
    "#### K = 4 looks to be a sensible option to pick"
   ]
  },
  {
   "cell_type": "markdown",
   "metadata": {},
   "source": [
    "## K-Means Clustering with k=4"
   ]
  },
  {
   "cell_type": "code",
   "execution_count": 47,
   "metadata": {},
   "outputs": [
    {
     "data": {
      "text/plain": [
       "KMeans(algorithm='auto', copy_x=True, init='k-means++', max_iter=50,\n",
       "    n_clusters=4, n_init=10, n_jobs=1, precompute_distances='auto',\n",
       "    random_state=None, tol=0.0001, verbose=0)"
      ]
     },
     "execution_count": 47,
     "metadata": {},
     "output_type": "execute_result"
    }
   ],
   "source": [
    "# Kmeans with K=4\n",
    "model_clus4 = KMeans(n_clusters = 4, max_iter=50)\n",
    "model_clus4.fit(transformed_pca_df)"
   ]
  },
  {
   "cell_type": "code",
   "execution_count": 48,
   "metadata": {},
   "outputs": [
    {
     "data": {
      "text/plain": [
       "KMeans(algorithm='auto', copy_x=True, init='k-means++', max_iter=50,\n",
       "    n_clusters=4, n_init=10, n_jobs=1, precompute_distances='auto',\n",
       "    random_state=None, tol=0.0001, verbose=0)"
      ]
     },
     "execution_count": 48,
     "metadata": {},
     "output_type": "execute_result"
    }
   ],
   "source": [
    "model_clus4"
   ]
  },
  {
   "cell_type": "code",
   "execution_count": 49,
   "metadata": {},
   "outputs": [
    {
     "data": {
      "text/plain": [
       "(147, 4)"
      ]
     },
     "execution_count": 49,
     "metadata": {},
     "output_type": "execute_result"
    }
   ],
   "source": [
    "transformed_pca_df.shape"
   ]
  },
  {
   "cell_type": "code",
   "execution_count": 50,
   "metadata": {},
   "outputs": [
    {
     "data": {
      "text/html": [
       "<div>\n",
       "<style scoped>\n",
       "    .dataframe tbody tr th:only-of-type {\n",
       "        vertical-align: middle;\n",
       "    }\n",
       "\n",
       "    .dataframe tbody tr th {\n",
       "        vertical-align: top;\n",
       "    }\n",
       "\n",
       "    .dataframe thead th {\n",
       "        text-align: right;\n",
       "    }\n",
       "</style>\n",
       "<table border=\"1\" class=\"dataframe\">\n",
       "  <thead>\n",
       "    <tr style=\"text-align: right;\">\n",
       "      <th></th>\n",
       "      <th>PC1</th>\n",
       "      <th>PC2</th>\n",
       "      <th>PC3</th>\n",
       "      <th>PC4</th>\n",
       "    </tr>\n",
       "  </thead>\n",
       "  <tbody>\n",
       "    <tr>\n",
       "      <th>0</th>\n",
       "      <td>-2.913025</td>\n",
       "      <td>0.095621</td>\n",
       "      <td>-0.718118</td>\n",
       "      <td>1.005255</td>\n",
       "    </tr>\n",
       "    <tr>\n",
       "      <th>1</th>\n",
       "      <td>0.429911</td>\n",
       "      <td>-0.588156</td>\n",
       "      <td>-0.333486</td>\n",
       "      <td>-1.161059</td>\n",
       "    </tr>\n",
       "    <tr>\n",
       "      <th>2</th>\n",
       "      <td>-0.285225</td>\n",
       "      <td>-0.455174</td>\n",
       "      <td>1.221505</td>\n",
       "      <td>-0.868115</td>\n",
       "    </tr>\n",
       "    <tr>\n",
       "      <th>3</th>\n",
       "      <td>-2.932423</td>\n",
       "      <td>1.695555</td>\n",
       "      <td>1.525044</td>\n",
       "      <td>0.839625</td>\n",
       "    </tr>\n",
       "    <tr>\n",
       "      <th>4</th>\n",
       "      <td>1.033576</td>\n",
       "      <td>0.136659</td>\n",
       "      <td>-0.225721</td>\n",
       "      <td>-0.847063</td>\n",
       "    </tr>\n",
       "  </tbody>\n",
       "</table>\n",
       "</div>"
      ],
      "text/plain": [
       "        PC1       PC2       PC3       PC4\n",
       "0 -2.913025  0.095621 -0.718118  1.005255\n",
       "1  0.429911 -0.588156 -0.333486 -1.161059\n",
       "2 -0.285225 -0.455174  1.221505 -0.868115\n",
       "3 -2.932423  1.695555  1.525044  0.839625\n",
       "4  1.033576  0.136659 -0.225721 -0.847063"
      ]
     },
     "execution_count": 50,
     "metadata": {},
     "output_type": "execute_result"
    }
   ],
   "source": [
    "transformed_pca_df.head()"
   ]
  },
  {
   "cell_type": "code",
   "execution_count": 51,
   "metadata": {},
   "outputs": [
    {
     "data": {
      "text/html": [
       "<div>\n",
       "<style scoped>\n",
       "    .dataframe tbody tr th:only-of-type {\n",
       "        vertical-align: middle;\n",
       "    }\n",
       "\n",
       "    .dataframe tbody tr th {\n",
       "        vertical-align: top;\n",
       "    }\n",
       "\n",
       "    .dataframe thead th {\n",
       "        text-align: right;\n",
       "    }\n",
       "</style>\n",
       "<table border=\"1\" class=\"dataframe\">\n",
       "  <thead>\n",
       "    <tr style=\"text-align: right;\">\n",
       "      <th></th>\n",
       "      <th>index_num</th>\n",
       "      <th>Cluster_ID</th>\n",
       "    </tr>\n",
       "  </thead>\n",
       "  <tbody>\n",
       "    <tr>\n",
       "      <th>0</th>\n",
       "      <td>0</td>\n",
       "      <td>0</td>\n",
       "    </tr>\n",
       "    <tr>\n",
       "      <th>1</th>\n",
       "      <td>1</td>\n",
       "      <td>3</td>\n",
       "    </tr>\n",
       "    <tr>\n",
       "      <th>2</th>\n",
       "      <td>2</td>\n",
       "      <td>2</td>\n",
       "    </tr>\n",
       "    <tr>\n",
       "      <th>3</th>\n",
       "      <td>3</td>\n",
       "      <td>0</td>\n",
       "    </tr>\n",
       "    <tr>\n",
       "      <th>4</th>\n",
       "      <td>4</td>\n",
       "      <td>3</td>\n",
       "    </tr>\n",
       "  </tbody>\n",
       "</table>\n",
       "</div>"
      ],
      "text/plain": [
       "   index_num  Cluster_ID\n",
       "0          0           0\n",
       "1          1           3\n",
       "2          2           2\n",
       "3          3           0\n",
       "4          4           3"
      ]
     },
     "execution_count": 51,
     "metadata": {},
     "output_type": "execute_result"
    }
   ],
   "source": [
    "index_df = pd.DataFrame(transformed_pca_df.index)\n",
    "dummy_df = pd.concat([index_df, pd.Series(model_clus4.labels_)], axis=1)\n",
    "dummy_df.columns = ['index_num', 'Cluster_ID'] \n",
    "dummy_df.head()"
   ]
  },
  {
   "cell_type": "code",
   "execution_count": 52,
   "metadata": {},
   "outputs": [
    {
     "data": {
      "text/html": [
       "<div>\n",
       "<style scoped>\n",
       "    .dataframe tbody tr th:only-of-type {\n",
       "        vertical-align: middle;\n",
       "    }\n",
       "\n",
       "    .dataframe tbody tr th {\n",
       "        vertical-align: top;\n",
       "    }\n",
       "\n",
       "    .dataframe thead th {\n",
       "        text-align: right;\n",
       "    }\n",
       "</style>\n",
       "<table border=\"1\" class=\"dataframe\">\n",
       "  <thead>\n",
       "    <tr style=\"text-align: right;\">\n",
       "      <th></th>\n",
       "      <th>Cluster_ID</th>\n",
       "    </tr>\n",
       "    <tr>\n",
       "      <th>index_num</th>\n",
       "      <th></th>\n",
       "    </tr>\n",
       "  </thead>\n",
       "  <tbody>\n",
       "    <tr>\n",
       "      <th>0</th>\n",
       "      <td>0</td>\n",
       "    </tr>\n",
       "    <tr>\n",
       "      <th>1</th>\n",
       "      <td>3</td>\n",
       "    </tr>\n",
       "    <tr>\n",
       "      <th>2</th>\n",
       "      <td>2</td>\n",
       "    </tr>\n",
       "    <tr>\n",
       "      <th>3</th>\n",
       "      <td>0</td>\n",
       "    </tr>\n",
       "    <tr>\n",
       "      <th>4</th>\n",
       "      <td>3</td>\n",
       "    </tr>\n",
       "  </tbody>\n",
       "</table>\n",
       "</div>"
      ],
      "text/plain": [
       "           Cluster_ID\n",
       "index_num            \n",
       "0                   0\n",
       "1                   3\n",
       "2                   2\n",
       "3                   0\n",
       "4                   3"
      ]
     },
     "execution_count": 52,
     "metadata": {},
     "output_type": "execute_result"
    }
   ],
   "source": [
    "dummy_df.set_index('index_num', inplace=True)\n",
    "dummy_df.head()"
   ]
  },
  {
   "cell_type": "code",
   "execution_count": 53,
   "metadata": {
    "scrolled": true
   },
   "outputs": [
    {
     "data": {
      "text/html": [
       "<div>\n",
       "<style scoped>\n",
       "    .dataframe tbody tr th:only-of-type {\n",
       "        vertical-align: middle;\n",
       "    }\n",
       "\n",
       "    .dataframe tbody tr th {\n",
       "        vertical-align: top;\n",
       "    }\n",
       "\n",
       "    .dataframe thead th {\n",
       "        text-align: right;\n",
       "    }\n",
       "</style>\n",
       "<table border=\"1\" class=\"dataframe\">\n",
       "  <thead>\n",
       "    <tr style=\"text-align: right;\">\n",
       "      <th></th>\n",
       "      <th>PC1</th>\n",
       "      <th>PC2</th>\n",
       "      <th>PC3</th>\n",
       "      <th>PC4</th>\n",
       "      <th>ClusterID</th>\n",
       "    </tr>\n",
       "  </thead>\n",
       "  <tbody>\n",
       "    <tr>\n",
       "      <th>0</th>\n",
       "      <td>-2.913025</td>\n",
       "      <td>0.095621</td>\n",
       "      <td>-0.718118</td>\n",
       "      <td>1.005255</td>\n",
       "      <td>0</td>\n",
       "    </tr>\n",
       "    <tr>\n",
       "      <th>1</th>\n",
       "      <td>0.429911</td>\n",
       "      <td>-0.588156</td>\n",
       "      <td>-0.333486</td>\n",
       "      <td>-1.161059</td>\n",
       "      <td>3</td>\n",
       "    </tr>\n",
       "    <tr>\n",
       "      <th>2</th>\n",
       "      <td>-0.285225</td>\n",
       "      <td>-0.455174</td>\n",
       "      <td>1.221505</td>\n",
       "      <td>-0.868115</td>\n",
       "      <td>2</td>\n",
       "    </tr>\n",
       "    <tr>\n",
       "      <th>3</th>\n",
       "      <td>-2.932423</td>\n",
       "      <td>1.695555</td>\n",
       "      <td>1.525044</td>\n",
       "      <td>0.839625</td>\n",
       "      <td>0</td>\n",
       "    </tr>\n",
       "    <tr>\n",
       "      <th>4</th>\n",
       "      <td>1.033576</td>\n",
       "      <td>0.136659</td>\n",
       "      <td>-0.225721</td>\n",
       "      <td>-0.847063</td>\n",
       "      <td>3</td>\n",
       "    </tr>\n",
       "  </tbody>\n",
       "</table>\n",
       "</div>"
      ],
      "text/plain": [
       "        PC1       PC2       PC3       PC4  ClusterID\n",
       "0 -2.913025  0.095621 -0.718118  1.005255          0\n",
       "1  0.429911 -0.588156 -0.333486 -1.161059          3\n",
       "2 -0.285225 -0.455174  1.221505 -0.868115          2\n",
       "3 -2.932423  1.695555  1.525044  0.839625          0\n",
       "4  1.033576  0.136659 -0.225721 -0.847063          3"
      ]
     },
     "execution_count": 53,
     "metadata": {},
     "output_type": "execute_result"
    }
   ],
   "source": [
    "# analysis of clusters formed\n",
    "#transformed_pca_df.index = pd.RangeIndex(len(transformed_pca_df.index))\n",
    "transformed_pca_df_km = pd.merge(transformed_pca_df, dummy_df, how='inner', left_index=True, right_index=True)\n",
    "transformed_pca_df_km.columns = ['PC1', 'PC2', 'PC3', 'PC4', 'ClusterID']\n",
    "transformed_pca_df_km.head()"
   ]
  },
  {
   "cell_type": "code",
   "execution_count": 54,
   "metadata": {},
   "outputs": [
    {
     "data": {
      "image/png": "[encoded data removed]",
      "text/plain": [
       "<Figure size 576x432 with 1 Axes>"
      ]
     },
     "metadata": {},
     "output_type": "display_data"
    }
   ],
   "source": [
    "%matplotlib inline\n",
    "fig = plt.figure(figsize = (8, 6))\n",
    "plt.scatter(transformed_pca_df_km['PC1'], transformed_pca_df_km['PC2'],c = transformed_pca_df_km.ClusterID.map({0:'green',1:'red', 2:'blue', 3:'yellow'}))\n",
    "plt.xlabel('Principal Component 1')\n",
    "plt.ylabel('Principal Component 2')\n",
    "plt.tight_layout()\n",
    "plt.show()"
   ]
  },
  {
   "cell_type": "markdown",
   "metadata": {},
   "source": [
    "### Countries towards the extreme left would be in need of the Aid"
   ]
  },
  {
   "cell_type": "markdown",
   "metadata": {},
   "source": [
    "### Joining back the clustered data with countries df"
   ]
  },
  {
   "cell_type": "code",
   "execution_count": 55,
   "metadata": {},
   "outputs": [],
   "source": [
    "Clustered_countries_df = pd.merge(countries_df, dummy_df, how='inner', left_index=True, right_index=True)"
   ]
  },
  {
   "cell_type": "code",
   "execution_count": 56,
   "metadata": {},
   "outputs": [
    {
     "data": {
      "text/html": [
       "<div>\n",
       "<style scoped>\n",
       "    .dataframe tbody tr th:only-of-type {\n",
       "        vertical-align: middle;\n",
       "    }\n",
       "\n",
       "    .dataframe tbody tr th {\n",
       "        vertical-align: top;\n",
       "    }\n",
       "\n",
       "    .dataframe thead th {\n",
       "        text-align: right;\n",
       "    }\n",
       "</style>\n",
       "<table border=\"1\" class=\"dataframe\">\n",
       "  <thead>\n",
       "    <tr style=\"text-align: right;\">\n",
       "      <th></th>\n",
       "      <th>child_mort</th>\n",
       "      <th>exports</th>\n",
       "      <th>health</th>\n",
       "      <th>imports</th>\n",
       "      <th>income</th>\n",
       "      <th>inflation</th>\n",
       "      <th>life_expec</th>\n",
       "      <th>total_fer</th>\n",
       "      <th>gdpp</th>\n",
       "    </tr>\n",
       "    <tr>\n",
       "      <th>Cluster_ID</th>\n",
       "      <th></th>\n",
       "      <th></th>\n",
       "      <th></th>\n",
       "      <th></th>\n",
       "      <th></th>\n",
       "      <th></th>\n",
       "      <th></th>\n",
       "      <th></th>\n",
       "      <th></th>\n",
       "    </tr>\n",
       "  </thead>\n",
       "  <tbody>\n",
       "    <tr>\n",
       "      <th>0</th>\n",
       "      <td>94.397500</td>\n",
       "      <td>27.252750</td>\n",
       "      <td>6.115000</td>\n",
       "      <td>39.660000</td>\n",
       "      <td>2838.325000</td>\n",
       "      <td>9.792125</td>\n",
       "      <td>59.057500</td>\n",
       "      <td>5.088250</td>\n",
       "      <td>1367.125000</td>\n",
       "    </tr>\n",
       "    <tr>\n",
       "      <th>1</th>\n",
       "      <td>4.738462</td>\n",
       "      <td>42.953846</td>\n",
       "      <td>9.828077</td>\n",
       "      <td>41.565385</td>\n",
       "      <td>36280.769231</td>\n",
       "      <td>1.303577</td>\n",
       "      <td>80.557692</td>\n",
       "      <td>1.760385</td>\n",
       "      <td>39265.384615</td>\n",
       "    </tr>\n",
       "    <tr>\n",
       "      <th>2</th>\n",
       "      <td>29.927273</td>\n",
       "      <td>26.690576</td>\n",
       "      <td>5.475152</td>\n",
       "      <td>29.365633</td>\n",
       "      <td>10476.969697</td>\n",
       "      <td>10.549879</td>\n",
       "      <td>72.118182</td>\n",
       "      <td>2.570303</td>\n",
       "      <td>5101.090909</td>\n",
       "    </tr>\n",
       "    <tr>\n",
       "      <th>3</th>\n",
       "      <td>17.185417</td>\n",
       "      <td>50.679167</td>\n",
       "      <td>6.665625</td>\n",
       "      <td>59.314583</td>\n",
       "      <td>13251.666667</td>\n",
       "      <td>4.299125</td>\n",
       "      <td>73.120833</td>\n",
       "      <td>2.132708</td>\n",
       "      <td>7130.541667</td>\n",
       "    </tr>\n",
       "  </tbody>\n",
       "</table>\n",
       "</div>"
      ],
      "text/plain": [
       "            child_mort    exports    health    imports        income  \\\n",
       "Cluster_ID                                                             \n",
       "0            94.397500  27.252750  6.115000  39.660000   2838.325000   \n",
       "1             4.738462  42.953846  9.828077  41.565385  36280.769231   \n",
       "2            29.927273  26.690576  5.475152  29.365633  10476.969697   \n",
       "3            17.185417  50.679167  6.665625  59.314583  13251.666667   \n",
       "\n",
       "            inflation  life_expec  total_fer          gdpp  \n",
       "Cluster_ID                                                  \n",
       "0            9.792125   59.057500   5.088250   1367.125000  \n",
       "1            1.303577   80.557692   1.760385  39265.384615  \n",
       "2           10.549879   72.118182   2.570303   5101.090909  \n",
       "3            4.299125   73.120833   2.132708   7130.541667  "
      ]
     },
     "execution_count": 56,
     "metadata": {},
     "output_type": "execute_result"
    }
   ],
   "source": [
    "#Clustered_countries_df.columns\n",
    "grouped_cluster = Clustered_countries_df.groupby('Cluster_ID').mean()\n",
    "grouped_cluster"
   ]
  },
  {
   "cell_type": "code",
   "execution_count": 57,
   "metadata": {},
   "outputs": [
    {
     "data": {
      "text/html": [
       "<div>\n",
       "<style scoped>\n",
       "    .dataframe tbody tr th:only-of-type {\n",
       "        vertical-align: middle;\n",
       "    }\n",
       "\n",
       "    .dataframe tbody tr th {\n",
       "        vertical-align: top;\n",
       "    }\n",
       "\n",
       "    .dataframe thead th {\n",
       "        text-align: right;\n",
       "    }\n",
       "</style>\n",
       "<table border=\"1\" class=\"dataframe\">\n",
       "  <thead>\n",
       "    <tr style=\"text-align: right;\">\n",
       "      <th></th>\n",
       "      <th>country</th>\n",
       "      <th>child_mort</th>\n",
       "      <th>exports</th>\n",
       "      <th>health</th>\n",
       "      <th>imports</th>\n",
       "      <th>income</th>\n",
       "      <th>inflation</th>\n",
       "      <th>life_expec</th>\n",
       "      <th>total_fer</th>\n",
       "      <th>gdpp</th>\n",
       "      <th>Cluster_ID</th>\n",
       "    </tr>\n",
       "  </thead>\n",
       "  <tbody>\n",
       "    <tr>\n",
       "      <th>7</th>\n",
       "      <td>Australia</td>\n",
       "      <td>4.8</td>\n",
       "      <td>19.8</td>\n",
       "      <td>8.73</td>\n",
       "      <td>20.9</td>\n",
       "      <td>41400</td>\n",
       "      <td>1.160</td>\n",
       "      <td>82.0</td>\n",
       "      <td>1.93</td>\n",
       "      <td>51900</td>\n",
       "      <td>1</td>\n",
       "    </tr>\n",
       "    <tr>\n",
       "      <th>8</th>\n",
       "      <td>Austria</td>\n",
       "      <td>4.3</td>\n",
       "      <td>51.3</td>\n",
       "      <td>11.00</td>\n",
       "      <td>47.8</td>\n",
       "      <td>43200</td>\n",
       "      <td>0.873</td>\n",
       "      <td>80.5</td>\n",
       "      <td>1.44</td>\n",
       "      <td>46900</td>\n",
       "      <td>1</td>\n",
       "    </tr>\n",
       "    <tr>\n",
       "      <th>10</th>\n",
       "      <td>Bahamas</td>\n",
       "      <td>13.8</td>\n",
       "      <td>35.0</td>\n",
       "      <td>7.89</td>\n",
       "      <td>43.7</td>\n",
       "      <td>22900</td>\n",
       "      <td>-0.393</td>\n",
       "      <td>73.8</td>\n",
       "      <td>1.86</td>\n",
       "      <td>28000</td>\n",
       "      <td>1</td>\n",
       "    </tr>\n",
       "    <tr>\n",
       "      <th>15</th>\n",
       "      <td>Belgium</td>\n",
       "      <td>4.5</td>\n",
       "      <td>76.4</td>\n",
       "      <td>10.70</td>\n",
       "      <td>74.7</td>\n",
       "      <td>41100</td>\n",
       "      <td>1.880</td>\n",
       "      <td>80.0</td>\n",
       "      <td>1.86</td>\n",
       "      <td>44400</td>\n",
       "      <td>1</td>\n",
       "    </tr>\n",
       "    <tr>\n",
       "      <th>29</th>\n",
       "      <td>Canada</td>\n",
       "      <td>5.6</td>\n",
       "      <td>29.1</td>\n",
       "      <td>11.30</td>\n",
       "      <td>31.0</td>\n",
       "      <td>40700</td>\n",
       "      <td>2.870</td>\n",
       "      <td>81.3</td>\n",
       "      <td>1.63</td>\n",
       "      <td>47400</td>\n",
       "      <td>1</td>\n",
       "    </tr>\n",
       "  </tbody>\n",
       "</table>\n",
       "</div>"
      ],
      "text/plain": [
       "      country  child_mort  exports  health  imports  income  inflation  \\\n",
       "7   Australia         4.8     19.8    8.73     20.9   41400      1.160   \n",
       "8     Austria         4.3     51.3   11.00     47.8   43200      0.873   \n",
       "10    Bahamas        13.8     35.0    7.89     43.7   22900     -0.393   \n",
       "15    Belgium         4.5     76.4   10.70     74.7   41100      1.880   \n",
       "29     Canada         5.6     29.1   11.30     31.0   40700      2.870   \n",
       "\n",
       "    life_expec  total_fer   gdpp  Cluster_ID  \n",
       "7         82.0       1.93  51900           1  \n",
       "8         80.5       1.44  46900           1  \n",
       "10        73.8       1.86  28000           1  \n",
       "15        80.0       1.86  44400           1  \n",
       "29        81.3       1.63  47400           1  "
      ]
     },
     "execution_count": 57,
     "metadata": {},
     "output_type": "execute_result"
    }
   ],
   "source": [
    "Clustered_countries_df[Clustered_countries_df.Cluster_ID == 1].head()"
   ]
  },
  {
   "cell_type": "code",
   "execution_count": 58,
   "metadata": {},
   "outputs": [
    {
     "data": {
      "text/plain": [
       "Index(['country', 'child_mort', 'exports', 'health', 'imports', 'income',\n",
       "       'inflation', 'life_expec', 'total_fer', 'gdpp', 'Cluster_ID'],\n",
       "      dtype='object')"
      ]
     },
     "execution_count": 58,
     "metadata": {},
     "output_type": "execute_result"
    }
   ],
   "source": [
    "Clustered_countries_df.columns"
   ]
  },
  {
   "cell_type": "code",
   "execution_count": 59,
   "metadata": {},
   "outputs": [],
   "source": [
    "km_clusters_child_mort = \tpd.DataFrame(Clustered_countries_df.groupby([\"Cluster_ID\"]).child_mort.mean())\n",
    "km_clusters_exports = \tpd.DataFrame(Clustered_countries_df.groupby([\"Cluster_ID\"]).exports.mean())\n",
    "km_clusters_health = \tpd.DataFrame(Clustered_countries_df.groupby([\"Cluster_ID\"]).health.mean())\n",
    "km_clusters_imports = \tpd.DataFrame(Clustered_countries_df.groupby([\"Cluster_ID\"]).imports.mean())\n",
    "km_clusters_income = \tpd.DataFrame(Clustered_countries_df.groupby([\"Cluster_ID\"]).income.mean())\n",
    "km_clusters_inflation = \tpd.DataFrame(Clustered_countries_df.groupby([\"Cluster_ID\"]).inflation.mean())\n",
    "km_clusters_life_expec = \tpd.DataFrame(Clustered_countries_df.groupby([\"Cluster_ID\"]).life_expec.mean())\n",
    "km_clusters_total_fer = \tpd.DataFrame(Clustered_countries_df.groupby([\"Cluster_ID\"]).total_fer.mean())\n",
    "km_clusters_gdpp = \tpd.DataFrame(Clustered_countries_df.groupby([\"Cluster_ID\"]).gdpp.mean())"
   ]
  },
  {
   "cell_type": "code",
   "execution_count": 60,
   "metadata": {
    "scrolled": true
   },
   "outputs": [
    {
     "data": {
      "text/html": [
       "<div>\n",
       "<style scoped>\n",
       "    .dataframe tbody tr th:only-of-type {\n",
       "        vertical-align: middle;\n",
       "    }\n",
       "\n",
       "    .dataframe tbody tr th {\n",
       "        vertical-align: top;\n",
       "    }\n",
       "\n",
       "    .dataframe thead th {\n",
       "        text-align: right;\n",
       "    }\n",
       "</style>\n",
       "<table border=\"1\" class=\"dataframe\">\n",
       "  <thead>\n",
       "    <tr style=\"text-align: right;\">\n",
       "      <th></th>\n",
       "      <th>ClusterID</th>\n",
       "      <th>child_mort</th>\n",
       "      <th>exports</th>\n",
       "      <th>health</th>\n",
       "      <th>imports</th>\n",
       "      <th>income</th>\n",
       "      <th>inflation</th>\n",
       "      <th>life_expec</th>\n",
       "      <th>total_fer</th>\n",
       "      <th>gdpp</th>\n",
       "    </tr>\n",
       "  </thead>\n",
       "  <tbody>\n",
       "    <tr>\n",
       "      <th>0</th>\n",
       "      <td>0</td>\n",
       "      <td>94.397500</td>\n",
       "      <td>27.252750</td>\n",
       "      <td>6.115000</td>\n",
       "      <td>39.660000</td>\n",
       "      <td>2838.325000</td>\n",
       "      <td>9.792125</td>\n",
       "      <td>59.057500</td>\n",
       "      <td>5.088250</td>\n",
       "      <td>1367.125000</td>\n",
       "    </tr>\n",
       "    <tr>\n",
       "      <th>1</th>\n",
       "      <td>1</td>\n",
       "      <td>4.738462</td>\n",
       "      <td>42.953846</td>\n",
       "      <td>9.828077</td>\n",
       "      <td>41.565385</td>\n",
       "      <td>36280.769231</td>\n",
       "      <td>1.303577</td>\n",
       "      <td>80.557692</td>\n",
       "      <td>1.760385</td>\n",
       "      <td>39265.384615</td>\n",
       "    </tr>\n",
       "    <tr>\n",
       "      <th>2</th>\n",
       "      <td>2</td>\n",
       "      <td>29.927273</td>\n",
       "      <td>26.690576</td>\n",
       "      <td>5.475152</td>\n",
       "      <td>29.365633</td>\n",
       "      <td>10476.969697</td>\n",
       "      <td>10.549879</td>\n",
       "      <td>72.118182</td>\n",
       "      <td>2.570303</td>\n",
       "      <td>5101.090909</td>\n",
       "    </tr>\n",
       "    <tr>\n",
       "      <th>3</th>\n",
       "      <td>3</td>\n",
       "      <td>17.185417</td>\n",
       "      <td>50.679167</td>\n",
       "      <td>6.665625</td>\n",
       "      <td>59.314583</td>\n",
       "      <td>13251.666667</td>\n",
       "      <td>4.299125</td>\n",
       "      <td>73.120833</td>\n",
       "      <td>2.132708</td>\n",
       "      <td>7130.541667</td>\n",
       "    </tr>\n",
       "  </tbody>\n",
       "</table>\n",
       "</div>"
      ],
      "text/plain": [
       "   ClusterID  child_mort    exports    health    imports        income  \\\n",
       "0          0   94.397500  27.252750  6.115000  39.660000   2838.325000   \n",
       "1          1    4.738462  42.953846  9.828077  41.565385  36280.769231   \n",
       "2          2   29.927273  26.690576  5.475152  29.365633  10476.969697   \n",
       "3          3   17.185417  50.679167  6.665625  59.314583  13251.666667   \n",
       "\n",
       "   inflation  life_expec  total_fer          gdpp  \n",
       "0   9.792125   59.057500   5.088250   1367.125000  \n",
       "1   1.303577   80.557692   1.760385  39265.384615  \n",
       "2  10.549879   72.118182   2.570303   5101.090909  \n",
       "3   4.299125   73.120833   2.132708   7130.541667  "
      ]
     },
     "execution_count": 60,
     "metadata": {},
     "output_type": "execute_result"
    }
   ],
   "source": [
    "df = pd.concat([pd.Series([0,1,2,3]), km_clusters_child_mort, km_clusters_exports, km_clusters_health, km_clusters_imports,\\\n",
    "               km_clusters_income, km_clusters_inflation, km_clusters_life_expec, km_clusters_total_fer, km_clusters_gdpp ], axis=1)\n",
    "df.columns = [\"ClusterID\", \"child_mort\", 'exports', 'health', 'imports', 'income', 'inflation', 'life_expec', 'total_fer',\\\n",
    "             'gdpp']\n",
    "df"
   ]
  },
  {
   "cell_type": "code",
   "execution_count": 61,
   "metadata": {
    "scrolled": true
   },
   "outputs": [
    {
     "data": {
      "text/plain": [
       "<matplotlib.axes._subplots.AxesSubplot at 0x1691fd486d8>"
      ]
     },
     "execution_count": 61,
     "metadata": {},
     "output_type": "execute_result"
    },
    {
     "data": {
      "image/png": "[encoded data removed]",
      "text/plain": [
       "<Figure size 432x432 with 9 Axes>"
      ]
     },
     "metadata": {},
     "output_type": "display_data"
    }
   ],
   "source": [
    "f = plt.figure(figsize=(6,6))\n",
    "plt.subplot(331)  \n",
    "plt.subplots_adjust(right=0.2, wspace = 0.5, hspace=0.5)\n",
    "sns.barplot(x=df.ClusterID, y=df.child_mort)\n",
    "plt.subplot(332)\n",
    "plt.subplots_adjust(left = 0.2, right=2)\n",
    "sns.barplot(x=df.ClusterID, y=df.exports)\n",
    "plt.subplot(333)\n",
    "plt.subplots_adjust(right=2)\n",
    "sns.barplot(x=df.ClusterID, y=df.health)\n",
    "plt.subplot(334)\n",
    "plt.subplots_adjust(right=1.5)\n",
    "sns.barplot(x=df.ClusterID, y=df.imports)\n",
    "plt.subplot(335)\n",
    "plt.subplots_adjust(right=1.5)\n",
    "sns.barplot(x=df.ClusterID, y=df.income)\n",
    "plt.subplot(336)\n",
    "plt.subplots_adjust(right=1.5)\n",
    "sns.barplot(x=df.ClusterID, y=df.inflation)\n",
    "plt.subplot(337)\n",
    "plt.subplots_adjust(right=1.5)\n",
    "sns.barplot(x=df.ClusterID, y=df.life_expec)\n",
    "plt.subplot(338)\n",
    "plt.subplots_adjust(right=1.5)\n",
    "sns.barplot(x=df.ClusterID, y=df.total_fer)\n",
    "plt.subplot(339)\n",
    "plt.subplots_adjust(right=1.2)\n",
    "sns.barplot(x=df.ClusterID, y=df.gdpp)"
   ]
  },
  {
   "cell_type": "markdown",
   "metadata": {},
   "source": [
    "##### The above graphs suggest that the Countries under there is a cluster with low gdpp, high child_mort, high inflation and the countries belonging to that cluster should be taken care and the same need to be confirmed by running with different k\n",
    "#### Note: The Cluster numbers can change after each run. However, the countries within each cluster would remain same for a particular k value"
   ]
  },
  {
   "cell_type": "markdown",
   "metadata": {},
   "source": [
    "## Performing k-means cluster for k=6 as there is further steep dip after 6 "
   ]
  },
  {
   "cell_type": "code",
   "execution_count": 62,
   "metadata": {},
   "outputs": [
    {
     "data": {
      "text/plain": [
       "KMeans(algorithm='auto', copy_x=True, init='k-means++', max_iter=50,\n",
       "    n_clusters=6, n_init=10, n_jobs=1, precompute_distances='auto',\n",
       "    random_state=None, tol=0.0001, verbose=0)"
      ]
     },
     "execution_count": 62,
     "metadata": {},
     "output_type": "execute_result"
    }
   ],
   "source": [
    "# Kmeans with K=6\n",
    "model_clus6 = KMeans(n_clusters = 6, max_iter=50)\n",
    "model_clus6.fit(transformed_pca_df)\n",
    "model_clus6"
   ]
  },
  {
   "cell_type": "code",
   "execution_count": 63,
   "metadata": {},
   "outputs": [
    {
     "name": "stdout",
     "output_type": "stream",
     "text": [
      "(147, 4)\n"
     ]
    },
    {
     "data": {
      "text/html": [
       "<div>\n",
       "<style scoped>\n",
       "    .dataframe tbody tr th:only-of-type {\n",
       "        vertical-align: middle;\n",
       "    }\n",
       "\n",
       "    .dataframe tbody tr th {\n",
       "        vertical-align: top;\n",
       "    }\n",
       "\n",
       "    .dataframe thead th {\n",
       "        text-align: right;\n",
       "    }\n",
       "</style>\n",
       "<table border=\"1\" class=\"dataframe\">\n",
       "  <thead>\n",
       "    <tr style=\"text-align: right;\">\n",
       "      <th></th>\n",
       "      <th>index_num</th>\n",
       "      <th>Cluster_ID</th>\n",
       "    </tr>\n",
       "  </thead>\n",
       "  <tbody>\n",
       "    <tr>\n",
       "      <th>0</th>\n",
       "      <td>0</td>\n",
       "      <td>2</td>\n",
       "    </tr>\n",
       "    <tr>\n",
       "      <th>1</th>\n",
       "      <td>1</td>\n",
       "      <td>5</td>\n",
       "    </tr>\n",
       "    <tr>\n",
       "      <th>2</th>\n",
       "      <td>2</td>\n",
       "      <td>5</td>\n",
       "    </tr>\n",
       "    <tr>\n",
       "      <th>3</th>\n",
       "      <td>3</td>\n",
       "      <td>2</td>\n",
       "    </tr>\n",
       "    <tr>\n",
       "      <th>4</th>\n",
       "      <td>4</td>\n",
       "      <td>1</td>\n",
       "    </tr>\n",
       "  </tbody>\n",
       "</table>\n",
       "</div>"
      ],
      "text/plain": [
       "   index_num  Cluster_ID\n",
       "0          0           2\n",
       "1          1           5\n",
       "2          2           5\n",
       "3          3           2\n",
       "4          4           1"
      ]
     },
     "execution_count": 63,
     "metadata": {},
     "output_type": "execute_result"
    }
   ],
   "source": [
    "print(transformed_pca_df.shape)\n",
    "\n",
    "index_df = pd.DataFrame(transformed_pca_df.index)\n",
    "dummy_df = pd.concat([index_df, pd.Series(model_clus6.labels_)], axis=1)\n",
    "dummy_df.columns = ['index_num', 'Cluster_ID'] \n",
    "dummy_df.head()"
   ]
  },
  {
   "cell_type": "code",
   "execution_count": 64,
   "metadata": {},
   "outputs": [
    {
     "data": {
      "text/html": [
       "<div>\n",
       "<style scoped>\n",
       "    .dataframe tbody tr th:only-of-type {\n",
       "        vertical-align: middle;\n",
       "    }\n",
       "\n",
       "    .dataframe tbody tr th {\n",
       "        vertical-align: top;\n",
       "    }\n",
       "\n",
       "    .dataframe thead th {\n",
       "        text-align: right;\n",
       "    }\n",
       "</style>\n",
       "<table border=\"1\" class=\"dataframe\">\n",
       "  <thead>\n",
       "    <tr style=\"text-align: right;\">\n",
       "      <th></th>\n",
       "      <th>PC1</th>\n",
       "      <th>PC2</th>\n",
       "      <th>PC3</th>\n",
       "      <th>PC4</th>\n",
       "      <th>ClusterID</th>\n",
       "    </tr>\n",
       "  </thead>\n",
       "  <tbody>\n",
       "    <tr>\n",
       "      <th>0</th>\n",
       "      <td>-2.913025</td>\n",
       "      <td>0.095621</td>\n",
       "      <td>-0.718118</td>\n",
       "      <td>1.005255</td>\n",
       "      <td>2</td>\n",
       "    </tr>\n",
       "    <tr>\n",
       "      <th>1</th>\n",
       "      <td>0.429911</td>\n",
       "      <td>-0.588156</td>\n",
       "      <td>-0.333486</td>\n",
       "      <td>-1.161059</td>\n",
       "      <td>5</td>\n",
       "    </tr>\n",
       "    <tr>\n",
       "      <th>2</th>\n",
       "      <td>-0.285225</td>\n",
       "      <td>-0.455174</td>\n",
       "      <td>1.221505</td>\n",
       "      <td>-0.868115</td>\n",
       "      <td>5</td>\n",
       "    </tr>\n",
       "    <tr>\n",
       "      <th>3</th>\n",
       "      <td>-2.932423</td>\n",
       "      <td>1.695555</td>\n",
       "      <td>1.525044</td>\n",
       "      <td>0.839625</td>\n",
       "      <td>2</td>\n",
       "    </tr>\n",
       "    <tr>\n",
       "      <th>4</th>\n",
       "      <td>1.033576</td>\n",
       "      <td>0.136659</td>\n",
       "      <td>-0.225721</td>\n",
       "      <td>-0.847063</td>\n",
       "      <td>1</td>\n",
       "    </tr>\n",
       "  </tbody>\n",
       "</table>\n",
       "</div>"
      ],
      "text/plain": [
       "        PC1       PC2       PC3       PC4  ClusterID\n",
       "0 -2.913025  0.095621 -0.718118  1.005255          2\n",
       "1  0.429911 -0.588156 -0.333486 -1.161059          5\n",
       "2 -0.285225 -0.455174  1.221505 -0.868115          5\n",
       "3 -2.932423  1.695555  1.525044  0.839625          2\n",
       "4  1.033576  0.136659 -0.225721 -0.847063          1"
      ]
     },
     "execution_count": 64,
     "metadata": {},
     "output_type": "execute_result"
    }
   ],
   "source": [
    "dummy_df.set_index('index_num', inplace=True)\n",
    "dummy_df.head()\n",
    "\n",
    "# analysis of clusters formed\n",
    "#transformed_pca_df.index = pd.RangeIndex(len(transformed_pca_df.index))\n",
    "transformed_pca_df_km = pd.merge(transformed_pca_df, dummy_df, how='inner', left_index=True, right_index=True)\n",
    "transformed_pca_df_km.columns = ['PC1', 'PC2', 'PC3', 'PC4', 'ClusterID']\n",
    "transformed_pca_df_km.head()"
   ]
  },
  {
   "cell_type": "code",
   "execution_count": 65,
   "metadata": {},
   "outputs": [
    {
     "data": {
      "image/png": "[encoded data removed]",
      "text/plain": [
       "<Figure size 576x432 with 1 Axes>"
      ]
     },
     "metadata": {},
     "output_type": "display_data"
    }
   ],
   "source": [
    "%matplotlib inline\n",
    "fig = plt.figure(figsize = (8,6))\n",
    "plt.scatter(transformed_pca_df_km['PC1'], transformed_pca_df_km['PC2'],c = transformed_pca_df_km.\\\n",
    "            ClusterID.map({0:'green',1:'red', 2:'blue', 3:'yellow', 4:'black', 5:'grey'}))\n",
    "plt.xlabel('Principal Component 1')\n",
    "plt.ylabel('Principal Component 2')\n",
    "plt.tight_layout()\n",
    "plt.show()"
   ]
  },
  {
   "cell_type": "markdown",
   "metadata": {},
   "source": [
    "### Countries towards the extreme left would be in need of the Aid"
   ]
  },
  {
   "cell_type": "code",
   "execution_count": 66,
   "metadata": {},
   "outputs": [],
   "source": [
    "Clustered_countries_df = pd.merge(countries_df, dummy_df, how='inner', left_index=True, right_index=True)"
   ]
  },
  {
   "cell_type": "code",
   "execution_count": 67,
   "metadata": {},
   "outputs": [
    {
     "data": {
      "text/html": [
       "<div>\n",
       "<style scoped>\n",
       "    .dataframe tbody tr th:only-of-type {\n",
       "        vertical-align: middle;\n",
       "    }\n",
       "\n",
       "    .dataframe tbody tr th {\n",
       "        vertical-align: top;\n",
       "    }\n",
       "\n",
       "    .dataframe thead th {\n",
       "        text-align: right;\n",
       "    }\n",
       "</style>\n",
       "<table border=\"1\" class=\"dataframe\">\n",
       "  <thead>\n",
       "    <tr style=\"text-align: right;\">\n",
       "      <th></th>\n",
       "      <th>child_mort</th>\n",
       "      <th>exports</th>\n",
       "      <th>health</th>\n",
       "      <th>imports</th>\n",
       "      <th>income</th>\n",
       "      <th>inflation</th>\n",
       "      <th>life_expec</th>\n",
       "      <th>total_fer</th>\n",
       "      <th>gdpp</th>\n",
       "    </tr>\n",
       "    <tr>\n",
       "      <th>Cluster_ID</th>\n",
       "      <th></th>\n",
       "      <th></th>\n",
       "      <th></th>\n",
       "      <th></th>\n",
       "      <th></th>\n",
       "      <th></th>\n",
       "      <th></th>\n",
       "      <th></th>\n",
       "      <th></th>\n",
       "    </tr>\n",
       "  </thead>\n",
       "  <tbody>\n",
       "    <tr>\n",
       "      <th>0</th>\n",
       "      <td>26.880952</td>\n",
       "      <td>50.671429</td>\n",
       "      <td>5.620476</td>\n",
       "      <td>63.423810</td>\n",
       "      <td>7710.952381</td>\n",
       "      <td>5.825476</td>\n",
       "      <td>69.547619</td>\n",
       "      <td>2.786667</td>\n",
       "      <td>3651.238095</td>\n",
       "    </tr>\n",
       "    <tr>\n",
       "      <th>1</th>\n",
       "      <td>9.503571</td>\n",
       "      <td>51.121429</td>\n",
       "      <td>7.824286</td>\n",
       "      <td>57.778571</td>\n",
       "      <td>18802.142857</td>\n",
       "      <td>2.466893</td>\n",
       "      <td>76.060714</td>\n",
       "      <td>1.667143</td>\n",
       "      <td>12276.785714</td>\n",
       "    </tr>\n",
       "    <tr>\n",
       "      <th>2</th>\n",
       "      <td>117.176190</td>\n",
       "      <td>26.553333</td>\n",
       "      <td>6.554762</td>\n",
       "      <td>40.161905</td>\n",
       "      <td>1726.809524</td>\n",
       "      <td>8.690238</td>\n",
       "      <td>55.376190</td>\n",
       "      <td>5.640000</td>\n",
       "      <td>789.857143</td>\n",
       "    </tr>\n",
       "    <tr>\n",
       "      <th>3</th>\n",
       "      <td>4.204762</td>\n",
       "      <td>42.128571</td>\n",
       "      <td>10.210952</td>\n",
       "      <td>39.780952</td>\n",
       "      <td>38780.952381</td>\n",
       "      <td>1.120619</td>\n",
       "      <td>80.990476</td>\n",
       "      <td>1.798571</td>\n",
       "      <td>43257.142857</td>\n",
       "    </tr>\n",
       "    <tr>\n",
       "      <th>4</th>\n",
       "      <td>66.863636</td>\n",
       "      <td>28.149545</td>\n",
       "      <td>5.550455</td>\n",
       "      <td>37.318182</td>\n",
       "      <td>4701.363636</td>\n",
       "      <td>11.832273</td>\n",
       "      <td>63.940909</td>\n",
       "      <td>4.374545</td>\n",
       "      <td>2193.000000</td>\n",
       "    </tr>\n",
       "    <tr>\n",
       "      <th>5</th>\n",
       "      <td>25.323529</td>\n",
       "      <td>28.329088</td>\n",
       "      <td>5.572353</td>\n",
       "      <td>30.404879</td>\n",
       "      <td>11652.058824</td>\n",
       "      <td>9.480471</td>\n",
       "      <td>73.114706</td>\n",
       "      <td>2.318824</td>\n",
       "      <td>5662.588235</td>\n",
       "    </tr>\n",
       "  </tbody>\n",
       "</table>\n",
       "</div>"
      ],
      "text/plain": [
       "            child_mort    exports     health    imports        income  \\\n",
       "Cluster_ID                                                              \n",
       "0            26.880952  50.671429   5.620476  63.423810   7710.952381   \n",
       "1             9.503571  51.121429   7.824286  57.778571  18802.142857   \n",
       "2           117.176190  26.553333   6.554762  40.161905   1726.809524   \n",
       "3             4.204762  42.128571  10.210952  39.780952  38780.952381   \n",
       "4            66.863636  28.149545   5.550455  37.318182   4701.363636   \n",
       "5            25.323529  28.329088   5.572353  30.404879  11652.058824   \n",
       "\n",
       "            inflation  life_expec  total_fer          gdpp  \n",
       "Cluster_ID                                                  \n",
       "0            5.825476   69.547619   2.786667   3651.238095  \n",
       "1            2.466893   76.060714   1.667143  12276.785714  \n",
       "2            8.690238   55.376190   5.640000    789.857143  \n",
       "3            1.120619   80.990476   1.798571  43257.142857  \n",
       "4           11.832273   63.940909   4.374545   2193.000000  \n",
       "5            9.480471   73.114706   2.318824   5662.588235  "
      ]
     },
     "execution_count": 67,
     "metadata": {},
     "output_type": "execute_result"
    }
   ],
   "source": [
    "#Clustered_countries_df.columns\n",
    "grouped_cluster = Clustered_countries_df.groupby('Cluster_ID').mean()\n",
    "grouped_cluster"
   ]
  },
  {
   "cell_type": "code",
   "execution_count": 68,
   "metadata": {},
   "outputs": [
    {
     "data": {
      "text/plain": [
       "Index(['country', 'child_mort', 'exports', 'health', 'imports', 'income',\n",
       "       'inflation', 'life_expec', 'total_fer', 'gdpp', 'Cluster_ID'],\n",
       "      dtype='object')"
      ]
     },
     "execution_count": 68,
     "metadata": {},
     "output_type": "execute_result"
    }
   ],
   "source": [
    "Clustered_countries_df.columns"
   ]
  },
  {
   "cell_type": "code",
   "execution_count": 69,
   "metadata": {},
   "outputs": [],
   "source": [
    "km_clusters_child_mort = \tpd.DataFrame(Clustered_countries_df.groupby([\"Cluster_ID\"]).child_mort.mean())\n",
    "km_clusters_exports = \tpd.DataFrame(Clustered_countries_df.groupby([\"Cluster_ID\"]).exports.mean())\n",
    "km_clusters_health = \tpd.DataFrame(Clustered_countries_df.groupby([\"Cluster_ID\"]).health.mean())\n",
    "km_clusters_imports = \tpd.DataFrame(Clustered_countries_df.groupby([\"Cluster_ID\"]).imports.mean())\n",
    "km_clusters_income = \tpd.DataFrame(Clustered_countries_df.groupby([\"Cluster_ID\"]).income.mean())\n",
    "km_clusters_inflation = \tpd.DataFrame(Clustered_countries_df.groupby([\"Cluster_ID\"]).inflation.mean())\n",
    "km_clusters_life_expec = \tpd.DataFrame(Clustered_countries_df.groupby([\"Cluster_ID\"]).life_expec.mean())\n",
    "km_clusters_total_fer = \tpd.DataFrame(Clustered_countries_df.groupby([\"Cluster_ID\"]).total_fer.mean())\n",
    "km_clusters_gdpp = \tpd.DataFrame(Clustered_countries_df.groupby([\"Cluster_ID\"]).gdpp.mean())\n",
    "\n",
    "df = pd.concat([pd.Series([0,1,2,3,4,5]), km_clusters_child_mort, km_clusters_exports, km_clusters_health, km_clusters_imports,\\\n",
    "               km_clusters_income, km_clusters_inflation, km_clusters_life_expec, km_clusters_total_fer, km_clusters_gdpp ], axis=1)"
   ]
  },
  {
   "cell_type": "code",
   "execution_count": 70,
   "metadata": {},
   "outputs": [
    {
     "data": {
      "text/html": [
       "<div>\n",
       "<style scoped>\n",
       "    .dataframe tbody tr th:only-of-type {\n",
       "        vertical-align: middle;\n",
       "    }\n",
       "\n",
       "    .dataframe tbody tr th {\n",
       "        vertical-align: top;\n",
       "    }\n",
       "\n",
       "    .dataframe thead th {\n",
       "        text-align: right;\n",
       "    }\n",
       "</style>\n",
       "<table border=\"1\" class=\"dataframe\">\n",
       "  <thead>\n",
       "    <tr style=\"text-align: right;\">\n",
       "      <th></th>\n",
       "      <th>ClusterID</th>\n",
       "      <th>child_mort</th>\n",
       "      <th>exports</th>\n",
       "      <th>health</th>\n",
       "      <th>imports</th>\n",
       "      <th>income</th>\n",
       "      <th>inflation</th>\n",
       "      <th>life_expec</th>\n",
       "      <th>total_fer</th>\n",
       "      <th>gdpp</th>\n",
       "    </tr>\n",
       "  </thead>\n",
       "  <tbody>\n",
       "    <tr>\n",
       "      <th>0</th>\n",
       "      <td>0</td>\n",
       "      <td>26.880952</td>\n",
       "      <td>50.671429</td>\n",
       "      <td>5.620476</td>\n",
       "      <td>63.423810</td>\n",
       "      <td>7710.952381</td>\n",
       "      <td>5.825476</td>\n",
       "      <td>69.547619</td>\n",
       "      <td>2.786667</td>\n",
       "      <td>3651.238095</td>\n",
       "    </tr>\n",
       "    <tr>\n",
       "      <th>1</th>\n",
       "      <td>1</td>\n",
       "      <td>9.503571</td>\n",
       "      <td>51.121429</td>\n",
       "      <td>7.824286</td>\n",
       "      <td>57.778571</td>\n",
       "      <td>18802.142857</td>\n",
       "      <td>2.466893</td>\n",
       "      <td>76.060714</td>\n",
       "      <td>1.667143</td>\n",
       "      <td>12276.785714</td>\n",
       "    </tr>\n",
       "    <tr>\n",
       "      <th>2</th>\n",
       "      <td>2</td>\n",
       "      <td>117.176190</td>\n",
       "      <td>26.553333</td>\n",
       "      <td>6.554762</td>\n",
       "      <td>40.161905</td>\n",
       "      <td>1726.809524</td>\n",
       "      <td>8.690238</td>\n",
       "      <td>55.376190</td>\n",
       "      <td>5.640000</td>\n",
       "      <td>789.857143</td>\n",
       "    </tr>\n",
       "    <tr>\n",
       "      <th>3</th>\n",
       "      <td>3</td>\n",
       "      <td>4.204762</td>\n",
       "      <td>42.128571</td>\n",
       "      <td>10.210952</td>\n",
       "      <td>39.780952</td>\n",
       "      <td>38780.952381</td>\n",
       "      <td>1.120619</td>\n",
       "      <td>80.990476</td>\n",
       "      <td>1.798571</td>\n",
       "      <td>43257.142857</td>\n",
       "    </tr>\n",
       "    <tr>\n",
       "      <th>4</th>\n",
       "      <td>4</td>\n",
       "      <td>66.863636</td>\n",
       "      <td>28.149545</td>\n",
       "      <td>5.550455</td>\n",
       "      <td>37.318182</td>\n",
       "      <td>4701.363636</td>\n",
       "      <td>11.832273</td>\n",
       "      <td>63.940909</td>\n",
       "      <td>4.374545</td>\n",
       "      <td>2193.000000</td>\n",
       "    </tr>\n",
       "    <tr>\n",
       "      <th>5</th>\n",
       "      <td>5</td>\n",
       "      <td>25.323529</td>\n",
       "      <td>28.329088</td>\n",
       "      <td>5.572353</td>\n",
       "      <td>30.404879</td>\n",
       "      <td>11652.058824</td>\n",
       "      <td>9.480471</td>\n",
       "      <td>73.114706</td>\n",
       "      <td>2.318824</td>\n",
       "      <td>5662.588235</td>\n",
       "    </tr>\n",
       "  </tbody>\n",
       "</table>\n",
       "</div>"
      ],
      "text/plain": [
       "   ClusterID  child_mort    exports     health    imports        income  \\\n",
       "0          0   26.880952  50.671429   5.620476  63.423810   7710.952381   \n",
       "1          1    9.503571  51.121429   7.824286  57.778571  18802.142857   \n",
       "2          2  117.176190  26.553333   6.554762  40.161905   1726.809524   \n",
       "3          3    4.204762  42.128571  10.210952  39.780952  38780.952381   \n",
       "4          4   66.863636  28.149545   5.550455  37.318182   4701.363636   \n",
       "5          5   25.323529  28.329088   5.572353  30.404879  11652.058824   \n",
       "\n",
       "   inflation  life_expec  total_fer          gdpp  \n",
       "0   5.825476   69.547619   2.786667   3651.238095  \n",
       "1   2.466893   76.060714   1.667143  12276.785714  \n",
       "2   8.690238   55.376190   5.640000    789.857143  \n",
       "3   1.120619   80.990476   1.798571  43257.142857  \n",
       "4  11.832273   63.940909   4.374545   2193.000000  \n",
       "5   9.480471   73.114706   2.318824   5662.588235  "
      ]
     },
     "execution_count": 70,
     "metadata": {},
     "output_type": "execute_result"
    }
   ],
   "source": [
    "df.columns = [\"ClusterID\", \"child_mort\", 'exports', 'health', 'imports', 'income', 'inflation', 'life_expec', 'total_fer',\\\n",
    "             'gdpp']\n",
    "df"
   ]
  },
  {
   "cell_type": "code",
   "execution_count": 71,
   "metadata": {},
   "outputs": [
    {
     "data": {
      "text/plain": [
       "<matplotlib.axes._subplots.AxesSubplot at 0x1691f64f710>"
      ]
     },
     "execution_count": 71,
     "metadata": {},
     "output_type": "execute_result"
    },
    {
     "data": {
      "image/png": "[encoded data removed]",
      "text/plain": [
       "<Figure size 432x432 with 9 Axes>"
      ]
     },
     "metadata": {},
     "output_type": "display_data"
    }
   ],
   "source": [
    "f = plt.figure(figsize=(6,6))\n",
    "plt.subplot(331)  \n",
    "plt.subplots_adjust(right=0.2, wspace = 0.5, hspace=0.5)\n",
    "sns.barplot(x=df.ClusterID, y=df.child_mort)\n",
    "plt.subplot(332)\n",
    "plt.subplots_adjust(left = 0.2, right=2)\n",
    "sns.barplot(x=df.ClusterID, y=df.exports)\n",
    "plt.subplot(333)\n",
    "plt.subplots_adjust(right=2)\n",
    "sns.barplot(x=df.ClusterID, y=df.health)\n",
    "plt.subplot(334)\n",
    "plt.subplots_adjust(right=1.5)\n",
    "sns.barplot(x=df.ClusterID, y=df.imports)\n",
    "plt.subplot(335)\n",
    "plt.subplots_adjust(right=1.5)\n",
    "sns.barplot(x=df.ClusterID, y=df.income)\n",
    "plt.subplot(336)\n",
    "plt.subplots_adjust(right=1.5)\n",
    "sns.barplot(x=df.ClusterID, y=df.inflation)\n",
    "plt.subplot(337)\n",
    "plt.subplots_adjust(right=1.5)\n",
    "sns.barplot(x=df.ClusterID, y=df.life_expec)\n",
    "plt.subplot(338)\n",
    "plt.subplots_adjust(right=1.5)\n",
    "sns.barplot(x=df.ClusterID, y=df.total_fer)\n",
    "plt.subplot(339)\n",
    "plt.subplots_adjust(right=1.2)\n",
    "sns.barplot(x=df.ClusterID, y=df.gdpp)"
   ]
  },
  {
   "cell_type": "markdown",
   "metadata": {},
   "source": [
    "# Hierarchial Clustering"
   ]
  },
  {
   "cell_type": "code",
   "execution_count": 72,
   "metadata": {},
   "outputs": [],
   "source": [
    "# To perform Hierarchical clustering\n",
    "from scipy.cluster.hierarchy import linkage\n",
    "from scipy.cluster.hierarchy import dendrogram\n",
    "from scipy.cluster.hierarchy import cut_tree"
   ]
  },
  {
   "cell_type": "code",
   "execution_count": 73,
   "metadata": {},
   "outputs": [
    {
     "data": {
      "image/png": "[encoded data removed]",
      "text/plain": [
       "<Figure size 432x288 with 1 Axes>"
      ]
     },
     "metadata": {},
     "output_type": "display_data"
    }
   ],
   "source": [
    "# heirarchical clustering\n",
    "mergings = linkage(transformed_pca_df, method = \"single\", metric='euclidean')\n",
    "dendrogram(mergings)\n",
    "plt.show()"
   ]
  },
  {
   "cell_type": "code",
   "execution_count": 74,
   "metadata": {},
   "outputs": [
    {
     "data": {
      "image/png": "[encoded data removed]",
      "text/plain": [
       "<Figure size 432x288 with 1 Axes>"
      ]
     },
     "metadata": {},
     "output_type": "display_data"
    }
   ],
   "source": [
    "mergings = linkage(transformed_pca_df, method = \"complete\", metric='euclidean')\n",
    "dendrogram(mergings)\n",
    "plt.show()"
   ]
  },
  {
   "cell_type": "code",
   "execution_count": 75,
   "metadata": {},
   "outputs": [
    {
     "data": {
      "text/plain": [
       "0    0\n",
       "1    1\n",
       "2    2\n",
       "3    2\n",
       "4    1\n",
       "dtype: int32"
      ]
     },
     "execution_count": 75,
     "metadata": {},
     "output_type": "execute_result"
    }
   ],
   "source": [
    "clusterCut = pd.Series(cut_tree(mergings, n_clusters = 4).reshape(-1,))\n",
    "clusterCut.head()"
   ]
  },
  {
   "cell_type": "code",
   "execution_count": 76,
   "metadata": {},
   "outputs": [
    {
     "data": {
      "text/html": [
       "<div>\n",
       "<style scoped>\n",
       "    .dataframe tbody tr th:only-of-type {\n",
       "        vertical-align: middle;\n",
       "    }\n",
       "\n",
       "    .dataframe tbody tr th {\n",
       "        vertical-align: top;\n",
       "    }\n",
       "\n",
       "    .dataframe thead th {\n",
       "        text-align: right;\n",
       "    }\n",
       "</style>\n",
       "<table border=\"1\" class=\"dataframe\">\n",
       "  <thead>\n",
       "    <tr style=\"text-align: right;\">\n",
       "      <th></th>\n",
       "      <th>Cluster_ID</th>\n",
       "    </tr>\n",
       "    <tr>\n",
       "      <th>index_num</th>\n",
       "      <th></th>\n",
       "    </tr>\n",
       "  </thead>\n",
       "  <tbody>\n",
       "    <tr>\n",
       "      <th>0</th>\n",
       "      <td>0</td>\n",
       "    </tr>\n",
       "    <tr>\n",
       "      <th>1</th>\n",
       "      <td>1</td>\n",
       "    </tr>\n",
       "    <tr>\n",
       "      <th>2</th>\n",
       "      <td>2</td>\n",
       "    </tr>\n",
       "    <tr>\n",
       "      <th>3</th>\n",
       "      <td>2</td>\n",
       "    </tr>\n",
       "    <tr>\n",
       "      <th>4</th>\n",
       "      <td>1</td>\n",
       "    </tr>\n",
       "  </tbody>\n",
       "</table>\n",
       "</div>"
      ],
      "text/plain": [
       "           Cluster_ID\n",
       "index_num            \n",
       "0                   0\n",
       "1                   1\n",
       "2                   2\n",
       "3                   2\n",
       "4                   1"
      ]
     },
     "execution_count": 76,
     "metadata": {},
     "output_type": "execute_result"
    }
   ],
   "source": [
    "index_df = pd.DataFrame(transformed_pca_df.index)\n",
    "dummy_df = pd.concat([index_df, clusterCut], axis=1)\n",
    "dummy_df.columns = ['index_num', 'Cluster_ID'] \n",
    "dummy_df.head()\n",
    "\n",
    "\n",
    "dummy_df.set_index('index_num', inplace=True)\n",
    "dummy_df.head()"
   ]
  },
  {
   "cell_type": "code",
   "execution_count": 77,
   "metadata": {},
   "outputs": [
    {
     "data": {
      "text/html": [
       "<div>\n",
       "<style scoped>\n",
       "    .dataframe tbody tr th:only-of-type {\n",
       "        vertical-align: middle;\n",
       "    }\n",
       "\n",
       "    .dataframe tbody tr th {\n",
       "        vertical-align: top;\n",
       "    }\n",
       "\n",
       "    .dataframe thead th {\n",
       "        text-align: right;\n",
       "    }\n",
       "</style>\n",
       "<table border=\"1\" class=\"dataframe\">\n",
       "  <thead>\n",
       "    <tr style=\"text-align: right;\">\n",
       "      <th></th>\n",
       "      <th>country</th>\n",
       "      <th>child_mort</th>\n",
       "      <th>exports</th>\n",
       "      <th>health</th>\n",
       "      <th>imports</th>\n",
       "      <th>income</th>\n",
       "      <th>inflation</th>\n",
       "      <th>life_expec</th>\n",
       "      <th>total_fer</th>\n",
       "      <th>gdpp</th>\n",
       "      <th>Cluster_ID</th>\n",
       "    </tr>\n",
       "  </thead>\n",
       "  <tbody>\n",
       "    <tr>\n",
       "      <th>0</th>\n",
       "      <td>Afghanistan</td>\n",
       "      <td>90.2</td>\n",
       "      <td>10.0</td>\n",
       "      <td>7.58</td>\n",
       "      <td>44.9</td>\n",
       "      <td>1610</td>\n",
       "      <td>9.44</td>\n",
       "      <td>56.2</td>\n",
       "      <td>5.82</td>\n",
       "      <td>553</td>\n",
       "      <td>0</td>\n",
       "    </tr>\n",
       "    <tr>\n",
       "      <th>1</th>\n",
       "      <td>Albania</td>\n",
       "      <td>16.6</td>\n",
       "      <td>28.0</td>\n",
       "      <td>6.55</td>\n",
       "      <td>48.6</td>\n",
       "      <td>9930</td>\n",
       "      <td>4.49</td>\n",
       "      <td>76.3</td>\n",
       "      <td>1.65</td>\n",
       "      <td>4090</td>\n",
       "      <td>1</td>\n",
       "    </tr>\n",
       "    <tr>\n",
       "      <th>2</th>\n",
       "      <td>Algeria</td>\n",
       "      <td>27.3</td>\n",
       "      <td>38.4</td>\n",
       "      <td>4.17</td>\n",
       "      <td>31.4</td>\n",
       "      <td>12900</td>\n",
       "      <td>16.10</td>\n",
       "      <td>76.5</td>\n",
       "      <td>2.89</td>\n",
       "      <td>4460</td>\n",
       "      <td>2</td>\n",
       "    </tr>\n",
       "    <tr>\n",
       "      <th>3</th>\n",
       "      <td>Angola</td>\n",
       "      <td>119.0</td>\n",
       "      <td>62.3</td>\n",
       "      <td>2.85</td>\n",
       "      <td>42.9</td>\n",
       "      <td>5900</td>\n",
       "      <td>22.40</td>\n",
       "      <td>60.1</td>\n",
       "      <td>6.16</td>\n",
       "      <td>3530</td>\n",
       "      <td>2</td>\n",
       "    </tr>\n",
       "    <tr>\n",
       "      <th>4</th>\n",
       "      <td>Antigua and Barbuda</td>\n",
       "      <td>10.3</td>\n",
       "      <td>45.5</td>\n",
       "      <td>6.03</td>\n",
       "      <td>58.9</td>\n",
       "      <td>19100</td>\n",
       "      <td>1.44</td>\n",
       "      <td>76.8</td>\n",
       "      <td>2.13</td>\n",
       "      <td>12200</td>\n",
       "      <td>1</td>\n",
       "    </tr>\n",
       "  </tbody>\n",
       "</table>\n",
       "</div>"
      ],
      "text/plain": [
       "               country  child_mort  exports  health  imports  income  \\\n",
       "0          Afghanistan        90.2     10.0    7.58     44.9    1610   \n",
       "1              Albania        16.6     28.0    6.55     48.6    9930   \n",
       "2              Algeria        27.3     38.4    4.17     31.4   12900   \n",
       "3               Angola       119.0     62.3    2.85     42.9    5900   \n",
       "4  Antigua and Barbuda        10.3     45.5    6.03     58.9   19100   \n",
       "\n",
       "   inflation  life_expec  total_fer   gdpp  Cluster_ID  \n",
       "0       9.44        56.2       5.82    553           0  \n",
       "1       4.49        76.3       1.65   4090           1  \n",
       "2      16.10        76.5       2.89   4460           2  \n",
       "3      22.40        60.1       6.16   3530           2  \n",
       "4       1.44        76.8       2.13  12200           1  "
      ]
     },
     "execution_count": 77,
     "metadata": {},
     "output_type": "execute_result"
    }
   ],
   "source": [
    "Clustered_countries_df_hc = pd.merge(countries_df, dummy_df, how='inner', left_index=True, right_index=True)\n",
    "Clustered_countries_df_hc.head()"
   ]
  },
  {
   "cell_type": "code",
   "execution_count": 78,
   "metadata": {},
   "outputs": [
    {
     "data": {
      "text/html": [
       "<div>\n",
       "<style scoped>\n",
       "    .dataframe tbody tr th:only-of-type {\n",
       "        vertical-align: middle;\n",
       "    }\n",
       "\n",
       "    .dataframe tbody tr th {\n",
       "        vertical-align: top;\n",
       "    }\n",
       "\n",
       "    .dataframe thead th {\n",
       "        text-align: right;\n",
       "    }\n",
       "</style>\n",
       "<table border=\"1\" class=\"dataframe\">\n",
       "  <thead>\n",
       "    <tr style=\"text-align: right;\">\n",
       "      <th></th>\n",
       "      <th>child_mort</th>\n",
       "      <th>exports</th>\n",
       "      <th>health</th>\n",
       "      <th>imports</th>\n",
       "      <th>income</th>\n",
       "      <th>inflation</th>\n",
       "      <th>life_expec</th>\n",
       "      <th>total_fer</th>\n",
       "      <th>gdpp</th>\n",
       "    </tr>\n",
       "    <tr>\n",
       "      <th>Cluster_ID</th>\n",
       "      <th></th>\n",
       "      <th></th>\n",
       "      <th></th>\n",
       "      <th></th>\n",
       "      <th></th>\n",
       "      <th></th>\n",
       "      <th></th>\n",
       "      <th></th>\n",
       "      <th></th>\n",
       "    </tr>\n",
       "  </thead>\n",
       "  <tbody>\n",
       "    <tr>\n",
       "      <th>0</th>\n",
       "      <td>109.834783</td>\n",
       "      <td>22.074783</td>\n",
       "      <td>6.917391</td>\n",
       "      <td>36.839130</td>\n",
       "      <td>1644.043478</td>\n",
       "      <td>9.429348</td>\n",
       "      <td>56.756522</td>\n",
       "      <td>5.585217</td>\n",
       "      <td>822.347826</td>\n",
       "    </tr>\n",
       "    <tr>\n",
       "      <th>1</th>\n",
       "      <td>24.501190</td>\n",
       "      <td>41.675000</td>\n",
       "      <td>6.642857</td>\n",
       "      <td>50.429762</td>\n",
       "      <td>12766.547619</td>\n",
       "      <td>5.373619</td>\n",
       "      <td>72.210714</td>\n",
       "      <td>2.453095</td>\n",
       "      <td>7539.916667</td>\n",
       "    </tr>\n",
       "    <tr>\n",
       "      <th>2</th>\n",
       "      <td>52.180000</td>\n",
       "      <td>33.108950</td>\n",
       "      <td>3.843000</td>\n",
       "      <td>29.868295</td>\n",
       "      <td>7182.500000</td>\n",
       "      <td>14.503000</td>\n",
       "      <td>67.800000</td>\n",
       "      <td>3.361500</td>\n",
       "      <td>2806.000000</td>\n",
       "    </tr>\n",
       "    <tr>\n",
       "      <th>3</th>\n",
       "      <td>4.185000</td>\n",
       "      <td>42.485000</td>\n",
       "      <td>10.340000</td>\n",
       "      <td>40.125000</td>\n",
       "      <td>39240.000000</td>\n",
       "      <td>1.088150</td>\n",
       "      <td>80.970000</td>\n",
       "      <td>1.737000</td>\n",
       "      <td>43890.000000</td>\n",
       "    </tr>\n",
       "  </tbody>\n",
       "</table>\n",
       "</div>"
      ],
      "text/plain": [
       "            child_mort    exports     health    imports        income  \\\n",
       "Cluster_ID                                                              \n",
       "0           109.834783  22.074783   6.917391  36.839130   1644.043478   \n",
       "1            24.501190  41.675000   6.642857  50.429762  12766.547619   \n",
       "2            52.180000  33.108950   3.843000  29.868295   7182.500000   \n",
       "3             4.185000  42.485000  10.340000  40.125000  39240.000000   \n",
       "\n",
       "            inflation  life_expec  total_fer          gdpp  \n",
       "Cluster_ID                                                  \n",
       "0            9.429348   56.756522   5.585217    822.347826  \n",
       "1            5.373619   72.210714   2.453095   7539.916667  \n",
       "2           14.503000   67.800000   3.361500   2806.000000  \n",
       "3            1.088150   80.970000   1.737000  43890.000000  "
      ]
     },
     "execution_count": 78,
     "metadata": {},
     "output_type": "execute_result"
    }
   ],
   "source": [
    "#Clustered_countries_df.columns\n",
    "grouped_cluster_hc = Clustered_countries_df_hc.groupby('Cluster_ID').mean()\n",
    "grouped_cluster_hc"
   ]
  },
  {
   "cell_type": "code",
   "execution_count": 79,
   "metadata": {},
   "outputs": [],
   "source": [
    "Clustered_countries_df_hc.to_csv('C:\\\\Users\\\\sravi35\\\\OneDrive\\\\Personal\\\\IIITB\\\\PredictiveAnalytics1\\\\Module6\\\\M6S1\\\\Final_csv\\\\Final_HC_4.csv')"
   ]
  },
  {
   "cell_type": "code",
   "execution_count": 80,
   "metadata": {},
   "outputs": [
    {
     "data": {
      "text/html": [
       "<div>\n",
       "<style scoped>\n",
       "    .dataframe tbody tr th:only-of-type {\n",
       "        vertical-align: middle;\n",
       "    }\n",
       "\n",
       "    .dataframe tbody tr th {\n",
       "        vertical-align: top;\n",
       "    }\n",
       "\n",
       "    .dataframe thead th {\n",
       "        text-align: right;\n",
       "    }\n",
       "</style>\n",
       "<table border=\"1\" class=\"dataframe\">\n",
       "  <thead>\n",
       "    <tr style=\"text-align: right;\">\n",
       "      <th></th>\n",
       "      <th>ClusterID</th>\n",
       "      <th>child_mort</th>\n",
       "      <th>exports</th>\n",
       "      <th>health</th>\n",
       "      <th>imports</th>\n",
       "      <th>income</th>\n",
       "      <th>inflation</th>\n",
       "      <th>life_expec</th>\n",
       "      <th>total_fer</th>\n",
       "      <th>gdpp</th>\n",
       "    </tr>\n",
       "  </thead>\n",
       "  <tbody>\n",
       "    <tr>\n",
       "      <th>0</th>\n",
       "      <td>0</td>\n",
       "      <td>109.834783</td>\n",
       "      <td>22.074783</td>\n",
       "      <td>6.917391</td>\n",
       "      <td>36.839130</td>\n",
       "      <td>1644.043478</td>\n",
       "      <td>9.429348</td>\n",
       "      <td>56.756522</td>\n",
       "      <td>5.585217</td>\n",
       "      <td>822.347826</td>\n",
       "    </tr>\n",
       "    <tr>\n",
       "      <th>1</th>\n",
       "      <td>1</td>\n",
       "      <td>24.501190</td>\n",
       "      <td>41.675000</td>\n",
       "      <td>6.642857</td>\n",
       "      <td>50.429762</td>\n",
       "      <td>12766.547619</td>\n",
       "      <td>5.373619</td>\n",
       "      <td>72.210714</td>\n",
       "      <td>2.453095</td>\n",
       "      <td>7539.916667</td>\n",
       "    </tr>\n",
       "    <tr>\n",
       "      <th>2</th>\n",
       "      <td>2</td>\n",
       "      <td>52.180000</td>\n",
       "      <td>33.108950</td>\n",
       "      <td>3.843000</td>\n",
       "      <td>29.868295</td>\n",
       "      <td>7182.500000</td>\n",
       "      <td>14.503000</td>\n",
       "      <td>67.800000</td>\n",
       "      <td>3.361500</td>\n",
       "      <td>2806.000000</td>\n",
       "    </tr>\n",
       "    <tr>\n",
       "      <th>3</th>\n",
       "      <td>3</td>\n",
       "      <td>4.185000</td>\n",
       "      <td>42.485000</td>\n",
       "      <td>10.340000</td>\n",
       "      <td>40.125000</td>\n",
       "      <td>39240.000000</td>\n",
       "      <td>1.088150</td>\n",
       "      <td>80.970000</td>\n",
       "      <td>1.737000</td>\n",
       "      <td>43890.000000</td>\n",
       "    </tr>\n",
       "  </tbody>\n",
       "</table>\n",
       "</div>"
      ],
      "text/plain": [
       "   ClusterID  child_mort    exports     health    imports        income  \\\n",
       "0          0  109.834783  22.074783   6.917391  36.839130   1644.043478   \n",
       "1          1   24.501190  41.675000   6.642857  50.429762  12766.547619   \n",
       "2          2   52.180000  33.108950   3.843000  29.868295   7182.500000   \n",
       "3          3    4.185000  42.485000  10.340000  40.125000  39240.000000   \n",
       "\n",
       "   inflation  life_expec  total_fer          gdpp  \n",
       "0   9.429348   56.756522   5.585217    822.347826  \n",
       "1   5.373619   72.210714   2.453095   7539.916667  \n",
       "2  14.503000   67.800000   3.361500   2806.000000  \n",
       "3   1.088150   80.970000   1.737000  43890.000000  "
      ]
     },
     "execution_count": 80,
     "metadata": {},
     "output_type": "execute_result"
    }
   ],
   "source": [
    "hc_clusters_child_mort = \tpd.DataFrame(Clustered_countries_df_hc.groupby([\"Cluster_ID\"]).child_mort.mean())\n",
    "hc_clusters_exports = \tpd.DataFrame(Clustered_countries_df_hc.groupby([\"Cluster_ID\"]).exports.mean())\n",
    "hc_clusters_health = \tpd.DataFrame(Clustered_countries_df_hc.groupby([\"Cluster_ID\"]).health.mean())\n",
    "hc_clusters_imports = \tpd.DataFrame(Clustered_countries_df_hc.groupby([\"Cluster_ID\"]).imports.mean())\n",
    "hc_clusters_income = \tpd.DataFrame(Clustered_countries_df_hc.groupby([\"Cluster_ID\"]).income.mean())\n",
    "hc_clusters_inflation = \tpd.DataFrame(Clustered_countries_df_hc.groupby([\"Cluster_ID\"]).inflation.mean())\n",
    "hc_clusters_life_expec = \tpd.DataFrame(Clustered_countries_df_hc.groupby([\"Cluster_ID\"]).life_expec.mean())\n",
    "hc_clusters_total_fer = \tpd.DataFrame(Clustered_countries_df_hc.groupby([\"Cluster_ID\"]).total_fer.mean())\n",
    "hc_clusters_gdpp = \tpd.DataFrame(Clustered_countries_df_hc.groupby([\"Cluster_ID\"]).gdpp.mean())\n",
    "\n",
    "df = pd.concat([pd.Series([0,1,2,3]), hc_clusters_child_mort, hc_clusters_exports, hc_clusters_health, hc_clusters_imports,\\\n",
    "               hc_clusters_income, hc_clusters_inflation, hc_clusters_life_expec, hc_clusters_total_fer, hc_clusters_gdpp ], axis=1)\n",
    "\n",
    "df.columns = [\"ClusterID\", \"child_mort\", 'exports', 'health', 'imports', 'income', 'inflation', 'life_expec', 'total_fer',\\\n",
    "             'gdpp']\n",
    "df"
   ]
  },
  {
   "cell_type": "code",
   "execution_count": 81,
   "metadata": {},
   "outputs": [
    {
     "data": {
      "text/plain": [
       "<matplotlib.axes._subplots.AxesSubplot at 0x1692151dcf8>"
      ]
     },
     "execution_count": 81,
     "metadata": {},
     "output_type": "execute_result"
    },
    {
     "data": {
      "image/png": "[encoded data removed]",
      "text/plain": [
       "<Figure size 576x576 with 9 Axes>"
      ]
     },
     "metadata": {},
     "output_type": "display_data"
    }
   ],
   "source": [
    "f = plt.figure(figsize=(8,8))\n",
    "plt.subplot(331)  \n",
    "plt.subplots_adjust(right=0.2, wspace = 0.5, hspace=0.5)\n",
    "sns.barplot(x=df.ClusterID, y=df.child_mort)\n",
    "plt.subplot(332)\n",
    "plt.subplots_adjust(left = 0.2, right=2)\n",
    "sns.barplot(x=df.ClusterID, y=df.exports)\n",
    "plt.subplot(333)\n",
    "plt.subplots_adjust(right=2)\n",
    "sns.barplot(x=df.ClusterID, y=df.health)\n",
    "plt.subplot(334)\n",
    "plt.subplots_adjust(right=1.5)\n",
    "sns.barplot(x=df.ClusterID, y=df.imports)\n",
    "plt.subplot(335)\n",
    "plt.subplots_adjust(right=1.5)\n",
    "sns.barplot(x=df.ClusterID, y=df.income)\n",
    "plt.subplot(336)\n",
    "plt.subplots_adjust(right=1.5)\n",
    "sns.barplot(x=df.ClusterID, y=df.inflation)\n",
    "plt.subplot(337)\n",
    "plt.subplots_adjust(right=1.5)\n",
    "sns.barplot(x=df.ClusterID, y=df.life_expec)\n",
    "plt.subplot(338)\n",
    "plt.subplots_adjust(right=1.5)\n",
    "sns.barplot(x=df.ClusterID, y=df.total_fer)\n",
    "plt.subplot(339)\n",
    "plt.subplots_adjust(right=1.2)\n",
    "sns.barplot(x=df.ClusterID, y=df.gdpp)"
   ]
  },
  {
   "cell_type": "code",
   "execution_count": 82,
   "metadata": {},
   "outputs": [
    {
     "data": {
      "text/plain": [
       "0    0\n",
       "1    1\n",
       "2    2\n",
       "3    2\n",
       "4    1\n",
       "dtype: int32"
      ]
     },
     "execution_count": 82,
     "metadata": {},
     "output_type": "execute_result"
    }
   ],
   "source": [
    "clusterCut = pd.Series(cut_tree(mergings, n_clusters = 6).reshape(-1,))\n",
    "clusterCut.head()"
   ]
  },
  {
   "cell_type": "code",
   "execution_count": 83,
   "metadata": {},
   "outputs": [
    {
     "data": {
      "text/html": [
       "<div>\n",
       "<style scoped>\n",
       "    .dataframe tbody tr th:only-of-type {\n",
       "        vertical-align: middle;\n",
       "    }\n",
       "\n",
       "    .dataframe tbody tr th {\n",
       "        vertical-align: top;\n",
       "    }\n",
       "\n",
       "    .dataframe thead th {\n",
       "        text-align: right;\n",
       "    }\n",
       "</style>\n",
       "<table border=\"1\" class=\"dataframe\">\n",
       "  <thead>\n",
       "    <tr style=\"text-align: right;\">\n",
       "      <th></th>\n",
       "      <th>Cluster_ID</th>\n",
       "    </tr>\n",
       "    <tr>\n",
       "      <th>index_num</th>\n",
       "      <th></th>\n",
       "    </tr>\n",
       "  </thead>\n",
       "  <tbody>\n",
       "    <tr>\n",
       "      <th>0</th>\n",
       "      <td>0</td>\n",
       "    </tr>\n",
       "    <tr>\n",
       "      <th>1</th>\n",
       "      <td>1</td>\n",
       "    </tr>\n",
       "    <tr>\n",
       "      <th>2</th>\n",
       "      <td>2</td>\n",
       "    </tr>\n",
       "    <tr>\n",
       "      <th>3</th>\n",
       "      <td>2</td>\n",
       "    </tr>\n",
       "    <tr>\n",
       "      <th>4</th>\n",
       "      <td>1</td>\n",
       "    </tr>\n",
       "  </tbody>\n",
       "</table>\n",
       "</div>"
      ],
      "text/plain": [
       "           Cluster_ID\n",
       "index_num            \n",
       "0                   0\n",
       "1                   1\n",
       "2                   2\n",
       "3                   2\n",
       "4                   1"
      ]
     },
     "execution_count": 83,
     "metadata": {},
     "output_type": "execute_result"
    }
   ],
   "source": [
    "index_df = pd.DataFrame(transformed_pca_df.index)\n",
    "dummy_df = pd.concat([index_df, clusterCut], axis=1)\n",
    "dummy_df.columns = ['index_num', 'Cluster_ID'] \n",
    "dummy_df.head()\n",
    "\n",
    "\n",
    "dummy_df.set_index('index_num', inplace=True)\n",
    "dummy_df.head()"
   ]
  },
  {
   "cell_type": "code",
   "execution_count": 84,
   "metadata": {},
   "outputs": [
    {
     "data": {
      "text/html": [
       "<div>\n",
       "<style scoped>\n",
       "    .dataframe tbody tr th:only-of-type {\n",
       "        vertical-align: middle;\n",
       "    }\n",
       "\n",
       "    .dataframe tbody tr th {\n",
       "        vertical-align: top;\n",
       "    }\n",
       "\n",
       "    .dataframe thead th {\n",
       "        text-align: right;\n",
       "    }\n",
       "</style>\n",
       "<table border=\"1\" class=\"dataframe\">\n",
       "  <thead>\n",
       "    <tr style=\"text-align: right;\">\n",
       "      <th></th>\n",
       "      <th>country</th>\n",
       "      <th>child_mort</th>\n",
       "      <th>exports</th>\n",
       "      <th>health</th>\n",
       "      <th>imports</th>\n",
       "      <th>income</th>\n",
       "      <th>inflation</th>\n",
       "      <th>life_expec</th>\n",
       "      <th>total_fer</th>\n",
       "      <th>gdpp</th>\n",
       "      <th>Cluster_ID</th>\n",
       "    </tr>\n",
       "  </thead>\n",
       "  <tbody>\n",
       "    <tr>\n",
       "      <th>0</th>\n",
       "      <td>Afghanistan</td>\n",
       "      <td>90.2</td>\n",
       "      <td>10.0</td>\n",
       "      <td>7.58</td>\n",
       "      <td>44.9</td>\n",
       "      <td>1610</td>\n",
       "      <td>9.44</td>\n",
       "      <td>56.2</td>\n",
       "      <td>5.82</td>\n",
       "      <td>553</td>\n",
       "      <td>0</td>\n",
       "    </tr>\n",
       "    <tr>\n",
       "      <th>1</th>\n",
       "      <td>Albania</td>\n",
       "      <td>16.6</td>\n",
       "      <td>28.0</td>\n",
       "      <td>6.55</td>\n",
       "      <td>48.6</td>\n",
       "      <td>9930</td>\n",
       "      <td>4.49</td>\n",
       "      <td>76.3</td>\n",
       "      <td>1.65</td>\n",
       "      <td>4090</td>\n",
       "      <td>1</td>\n",
       "    </tr>\n",
       "    <tr>\n",
       "      <th>2</th>\n",
       "      <td>Algeria</td>\n",
       "      <td>27.3</td>\n",
       "      <td>38.4</td>\n",
       "      <td>4.17</td>\n",
       "      <td>31.4</td>\n",
       "      <td>12900</td>\n",
       "      <td>16.10</td>\n",
       "      <td>76.5</td>\n",
       "      <td>2.89</td>\n",
       "      <td>4460</td>\n",
       "      <td>2</td>\n",
       "    </tr>\n",
       "    <tr>\n",
       "      <th>3</th>\n",
       "      <td>Angola</td>\n",
       "      <td>119.0</td>\n",
       "      <td>62.3</td>\n",
       "      <td>2.85</td>\n",
       "      <td>42.9</td>\n",
       "      <td>5900</td>\n",
       "      <td>22.40</td>\n",
       "      <td>60.1</td>\n",
       "      <td>6.16</td>\n",
       "      <td>3530</td>\n",
       "      <td>2</td>\n",
       "    </tr>\n",
       "    <tr>\n",
       "      <th>4</th>\n",
       "      <td>Antigua and Barbuda</td>\n",
       "      <td>10.3</td>\n",
       "      <td>45.5</td>\n",
       "      <td>6.03</td>\n",
       "      <td>58.9</td>\n",
       "      <td>19100</td>\n",
       "      <td>1.44</td>\n",
       "      <td>76.8</td>\n",
       "      <td>2.13</td>\n",
       "      <td>12200</td>\n",
       "      <td>1</td>\n",
       "    </tr>\n",
       "  </tbody>\n",
       "</table>\n",
       "</div>"
      ],
      "text/plain": [
       "               country  child_mort  exports  health  imports  income  \\\n",
       "0          Afghanistan        90.2     10.0    7.58     44.9    1610   \n",
       "1              Albania        16.6     28.0    6.55     48.6    9930   \n",
       "2              Algeria        27.3     38.4    4.17     31.4   12900   \n",
       "3               Angola       119.0     62.3    2.85     42.9    5900   \n",
       "4  Antigua and Barbuda        10.3     45.5    6.03     58.9   19100   \n",
       "\n",
       "   inflation  life_expec  total_fer   gdpp  Cluster_ID  \n",
       "0       9.44        56.2       5.82    553           0  \n",
       "1       4.49        76.3       1.65   4090           1  \n",
       "2      16.10        76.5       2.89   4460           2  \n",
       "3      22.40        60.1       6.16   3530           2  \n",
       "4       1.44        76.8       2.13  12200           1  "
      ]
     },
     "execution_count": 84,
     "metadata": {},
     "output_type": "execute_result"
    }
   ],
   "source": [
    "Clustered_countries_df_hc = pd.merge(countries_df, dummy_df, how='inner', left_index=True, right_index=True)\n",
    "Clustered_countries_df_hc.head()"
   ]
  },
  {
   "cell_type": "code",
   "execution_count": 85,
   "metadata": {},
   "outputs": [
    {
     "data": {
      "text/html": [
       "<div>\n",
       "<style scoped>\n",
       "    .dataframe tbody tr th:only-of-type {\n",
       "        vertical-align: middle;\n",
       "    }\n",
       "\n",
       "    .dataframe tbody tr th {\n",
       "        vertical-align: top;\n",
       "    }\n",
       "\n",
       "    .dataframe thead th {\n",
       "        text-align: right;\n",
       "    }\n",
       "</style>\n",
       "<table border=\"1\" class=\"dataframe\">\n",
       "  <thead>\n",
       "    <tr style=\"text-align: right;\">\n",
       "      <th></th>\n",
       "      <th>child_mort</th>\n",
       "      <th>exports</th>\n",
       "      <th>health</th>\n",
       "      <th>imports</th>\n",
       "      <th>income</th>\n",
       "      <th>inflation</th>\n",
       "      <th>life_expec</th>\n",
       "      <th>total_fer</th>\n",
       "      <th>gdpp</th>\n",
       "    </tr>\n",
       "    <tr>\n",
       "      <th>Cluster_ID</th>\n",
       "      <th></th>\n",
       "      <th></th>\n",
       "      <th></th>\n",
       "      <th></th>\n",
       "      <th></th>\n",
       "      <th></th>\n",
       "      <th></th>\n",
       "      <th></th>\n",
       "      <th></th>\n",
       "    </tr>\n",
       "  </thead>\n",
       "  <tbody>\n",
       "    <tr>\n",
       "      <th>0</th>\n",
       "      <td>109.834783</td>\n",
       "      <td>22.074783</td>\n",
       "      <td>6.917391</td>\n",
       "      <td>36.839130</td>\n",
       "      <td>1644.043478</td>\n",
       "      <td>9.429348</td>\n",
       "      <td>56.756522</td>\n",
       "      <td>5.585217</td>\n",
       "      <td>822.347826</td>\n",
       "    </tr>\n",
       "    <tr>\n",
       "      <th>1</th>\n",
       "      <td>28.668182</td>\n",
       "      <td>35.496970</td>\n",
       "      <td>6.653030</td>\n",
       "      <td>47.374242</td>\n",
       "      <td>9930.303030</td>\n",
       "      <td>5.676652</td>\n",
       "      <td>71.089394</td>\n",
       "      <td>2.620909</td>\n",
       "      <td>5346.712121</td>\n",
       "    </tr>\n",
       "    <tr>\n",
       "      <th>2</th>\n",
       "      <td>52.180000</td>\n",
       "      <td>33.108950</td>\n",
       "      <td>3.843000</td>\n",
       "      <td>29.868295</td>\n",
       "      <td>7182.500000</td>\n",
       "      <td>14.503000</td>\n",
       "      <td>67.800000</td>\n",
       "      <td>3.361500</td>\n",
       "      <td>2806.000000</td>\n",
       "    </tr>\n",
       "    <tr>\n",
       "      <th>3</th>\n",
       "      <td>4.125000</td>\n",
       "      <td>33.393750</td>\n",
       "      <td>10.219375</td>\n",
       "      <td>32.775000</td>\n",
       "      <td>37312.500000</td>\n",
       "      <td>1.371125</td>\n",
       "      <td>81.006250</td>\n",
       "      <td>1.720000</td>\n",
       "      <td>41237.500000</td>\n",
       "    </tr>\n",
       "    <tr>\n",
       "      <th>4</th>\n",
       "      <td>9.222222</td>\n",
       "      <td>64.327778</td>\n",
       "      <td>6.605556</td>\n",
       "      <td>61.633333</td>\n",
       "      <td>23166.111111</td>\n",
       "      <td>4.262500</td>\n",
       "      <td>76.322222</td>\n",
       "      <td>1.837778</td>\n",
       "      <td>15581.666667</td>\n",
       "    </tr>\n",
       "    <tr>\n",
       "      <th>5</th>\n",
       "      <td>4.425000</td>\n",
       "      <td>78.850000</td>\n",
       "      <td>10.822500</td>\n",
       "      <td>69.525000</td>\n",
       "      <td>46950.000000</td>\n",
       "      <td>-0.043750</td>\n",
       "      <td>80.825000</td>\n",
       "      <td>1.805000</td>\n",
       "      <td>54500.000000</td>\n",
       "    </tr>\n",
       "  </tbody>\n",
       "</table>\n",
       "</div>"
      ],
      "text/plain": [
       "            child_mort    exports     health    imports        income  \\\n",
       "Cluster_ID                                                              \n",
       "0           109.834783  22.074783   6.917391  36.839130   1644.043478   \n",
       "1            28.668182  35.496970   6.653030  47.374242   9930.303030   \n",
       "2            52.180000  33.108950   3.843000  29.868295   7182.500000   \n",
       "3             4.125000  33.393750  10.219375  32.775000  37312.500000   \n",
       "4             9.222222  64.327778   6.605556  61.633333  23166.111111   \n",
       "5             4.425000  78.850000  10.822500  69.525000  46950.000000   \n",
       "\n",
       "            inflation  life_expec  total_fer          gdpp  \n",
       "Cluster_ID                                                  \n",
       "0            9.429348   56.756522   5.585217    822.347826  \n",
       "1            5.676652   71.089394   2.620909   5346.712121  \n",
       "2           14.503000   67.800000   3.361500   2806.000000  \n",
       "3            1.371125   81.006250   1.720000  41237.500000  \n",
       "4            4.262500   76.322222   1.837778  15581.666667  \n",
       "5           -0.043750   80.825000   1.805000  54500.000000  "
      ]
     },
     "execution_count": 85,
     "metadata": {},
     "output_type": "execute_result"
    }
   ],
   "source": [
    "#Clustered_countries_df.columns\n",
    "grouped_cluster_hc = Clustered_countries_df_hc.groupby('Cluster_ID').mean()\n",
    "grouped_cluster_hc"
   ]
  },
  {
   "cell_type": "code",
   "execution_count": 86,
   "metadata": {},
   "outputs": [
    {
     "data": {
      "text/html": [
       "<div>\n",
       "<style scoped>\n",
       "    .dataframe tbody tr th:only-of-type {\n",
       "        vertical-align: middle;\n",
       "    }\n",
       "\n",
       "    .dataframe tbody tr th {\n",
       "        vertical-align: top;\n",
       "    }\n",
       "\n",
       "    .dataframe thead th {\n",
       "        text-align: right;\n",
       "    }\n",
       "</style>\n",
       "<table border=\"1\" class=\"dataframe\">\n",
       "  <thead>\n",
       "    <tr style=\"text-align: right;\">\n",
       "      <th></th>\n",
       "      <th>ClusterID</th>\n",
       "      <th>child_mort</th>\n",
       "      <th>exports</th>\n",
       "      <th>health</th>\n",
       "      <th>imports</th>\n",
       "      <th>income</th>\n",
       "      <th>inflation</th>\n",
       "      <th>life_expec</th>\n",
       "      <th>total_fer</th>\n",
       "      <th>gdpp</th>\n",
       "    </tr>\n",
       "  </thead>\n",
       "  <tbody>\n",
       "    <tr>\n",
       "      <th>0</th>\n",
       "      <td>0</td>\n",
       "      <td>109.834783</td>\n",
       "      <td>22.074783</td>\n",
       "      <td>6.917391</td>\n",
       "      <td>36.839130</td>\n",
       "      <td>1644.043478</td>\n",
       "      <td>9.429348</td>\n",
       "      <td>56.756522</td>\n",
       "      <td>5.585217</td>\n",
       "      <td>822.347826</td>\n",
       "    </tr>\n",
       "    <tr>\n",
       "      <th>1</th>\n",
       "      <td>1</td>\n",
       "      <td>28.668182</td>\n",
       "      <td>35.496970</td>\n",
       "      <td>6.653030</td>\n",
       "      <td>47.374242</td>\n",
       "      <td>9930.303030</td>\n",
       "      <td>5.676652</td>\n",
       "      <td>71.089394</td>\n",
       "      <td>2.620909</td>\n",
       "      <td>5346.712121</td>\n",
       "    </tr>\n",
       "    <tr>\n",
       "      <th>2</th>\n",
       "      <td>2</td>\n",
       "      <td>52.180000</td>\n",
       "      <td>33.108950</td>\n",
       "      <td>3.843000</td>\n",
       "      <td>29.868295</td>\n",
       "      <td>7182.500000</td>\n",
       "      <td>14.503000</td>\n",
       "      <td>67.800000</td>\n",
       "      <td>3.361500</td>\n",
       "      <td>2806.000000</td>\n",
       "    </tr>\n",
       "    <tr>\n",
       "      <th>3</th>\n",
       "      <td>3</td>\n",
       "      <td>4.125000</td>\n",
       "      <td>33.393750</td>\n",
       "      <td>10.219375</td>\n",
       "      <td>32.775000</td>\n",
       "      <td>37312.500000</td>\n",
       "      <td>1.371125</td>\n",
       "      <td>81.006250</td>\n",
       "      <td>1.720000</td>\n",
       "      <td>41237.500000</td>\n",
       "    </tr>\n",
       "    <tr>\n",
       "      <th>4</th>\n",
       "      <td>4</td>\n",
       "      <td>9.222222</td>\n",
       "      <td>64.327778</td>\n",
       "      <td>6.605556</td>\n",
       "      <td>61.633333</td>\n",
       "      <td>23166.111111</td>\n",
       "      <td>4.262500</td>\n",
       "      <td>76.322222</td>\n",
       "      <td>1.837778</td>\n",
       "      <td>15581.666667</td>\n",
       "    </tr>\n",
       "    <tr>\n",
       "      <th>5</th>\n",
       "      <td>5</td>\n",
       "      <td>4.425000</td>\n",
       "      <td>78.850000</td>\n",
       "      <td>10.822500</td>\n",
       "      <td>69.525000</td>\n",
       "      <td>46950.000000</td>\n",
       "      <td>-0.043750</td>\n",
       "      <td>80.825000</td>\n",
       "      <td>1.805000</td>\n",
       "      <td>54500.000000</td>\n",
       "    </tr>\n",
       "  </tbody>\n",
       "</table>\n",
       "</div>"
      ],
      "text/plain": [
       "   ClusterID  child_mort    exports     health    imports        income  \\\n",
       "0          0  109.834783  22.074783   6.917391  36.839130   1644.043478   \n",
       "1          1   28.668182  35.496970   6.653030  47.374242   9930.303030   \n",
       "2          2   52.180000  33.108950   3.843000  29.868295   7182.500000   \n",
       "3          3    4.125000  33.393750  10.219375  32.775000  37312.500000   \n",
       "4          4    9.222222  64.327778   6.605556  61.633333  23166.111111   \n",
       "5          5    4.425000  78.850000  10.822500  69.525000  46950.000000   \n",
       "\n",
       "   inflation  life_expec  total_fer          gdpp  \n",
       "0   9.429348   56.756522   5.585217    822.347826  \n",
       "1   5.676652   71.089394   2.620909   5346.712121  \n",
       "2  14.503000   67.800000   3.361500   2806.000000  \n",
       "3   1.371125   81.006250   1.720000  41237.500000  \n",
       "4   4.262500   76.322222   1.837778  15581.666667  \n",
       "5  -0.043750   80.825000   1.805000  54500.000000  "
      ]
     },
     "execution_count": 86,
     "metadata": {},
     "output_type": "execute_result"
    }
   ],
   "source": [
    "hc_clusters_child_mort = \tpd.DataFrame(Clustered_countries_df_hc.groupby([\"Cluster_ID\"]).child_mort.mean())\n",
    "hc_clusters_exports = \tpd.DataFrame(Clustered_countries_df_hc.groupby([\"Cluster_ID\"]).exports.mean())\n",
    "hc_clusters_health = \tpd.DataFrame(Clustered_countries_df_hc.groupby([\"Cluster_ID\"]).health.mean())\n",
    "hc_clusters_imports = \tpd.DataFrame(Clustered_countries_df_hc.groupby([\"Cluster_ID\"]).imports.mean())\n",
    "hc_clusters_income = \tpd.DataFrame(Clustered_countries_df_hc.groupby([\"Cluster_ID\"]).income.mean())\n",
    "hc_clusters_inflation = \tpd.DataFrame(Clustered_countries_df_hc.groupby([\"Cluster_ID\"]).inflation.mean())\n",
    "hc_clusters_life_expec = \tpd.DataFrame(Clustered_countries_df_hc.groupby([\"Cluster_ID\"]).life_expec.mean())\n",
    "hc_clusters_total_fer = \tpd.DataFrame(Clustered_countries_df_hc.groupby([\"Cluster_ID\"]).total_fer.mean())\n",
    "hc_clusters_gdpp = \tpd.DataFrame(Clustered_countries_df_hc.groupby([\"Cluster_ID\"]).gdpp.mean())\n",
    "\n",
    "df = pd.concat([pd.Series([0,1,2,3,4,5]), hc_clusters_child_mort, hc_clusters_exports, hc_clusters_health, hc_clusters_imports,\\\n",
    "               hc_clusters_income, hc_clusters_inflation, hc_clusters_life_expec, hc_clusters_total_fer, hc_clusters_gdpp ], axis=1)\n",
    "\n",
    "df.columns = [\"ClusterID\", \"child_mort\", 'exports', 'health', 'imports', 'income', 'inflation', 'life_expec', 'total_fer',\\\n",
    "             'gdpp']\n",
    "df"
   ]
  },
  {
   "cell_type": "code",
   "execution_count": 87,
   "metadata": {},
   "outputs": [
    {
     "data": {
      "text/plain": [
       "<matplotlib.axes._subplots.AxesSubplot at 0x169201876d8>"
      ]
     },
     "execution_count": 87,
     "metadata": {},
     "output_type": "execute_result"
    },
    {
     "data": {
      "image/png": "[encoded data removed]",
      "text/plain": [
       "<Figure size 576x576 with 9 Axes>"
      ]
     },
     "metadata": {},
     "output_type": "display_data"
    }
   ],
   "source": [
    "f = plt.figure(figsize=(8,8))\n",
    "plt.subplot(331)  \n",
    "plt.subplots_adjust(right=0.2, wspace = 0.5, hspace=0.5)\n",
    "sns.barplot(x=df.ClusterID, y=df.child_mort)\n",
    "plt.subplot(332)\n",
    "plt.subplots_adjust(left = 0.2, right=2)\n",
    "sns.barplot(x=df.ClusterID, y=df.exports)\n",
    "plt.subplot(333)\n",
    "plt.subplots_adjust(right=2)\n",
    "sns.barplot(x=df.ClusterID, y=df.health)\n",
    "plt.subplot(334)\n",
    "plt.subplots_adjust(right=1.5)\n",
    "sns.barplot(x=df.ClusterID, y=df.imports)\n",
    "plt.subplot(335)\n",
    "plt.subplots_adjust(right=1.5)\n",
    "sns.barplot(x=df.ClusterID, y=df.income)\n",
    "plt.subplot(336)\n",
    "plt.subplots_adjust(right=1.5)\n",
    "sns.barplot(x=df.ClusterID, y=df.inflation)\n",
    "plt.subplot(337)\n",
    "plt.subplots_adjust(right=1.5)\n",
    "sns.barplot(x=df.ClusterID, y=df.life_expec)\n",
    "plt.subplot(338)\n",
    "plt.subplots_adjust(right=1.5)\n",
    "sns.barplot(x=df.ClusterID, y=df.total_fer)\n",
    "plt.subplot(339)\n",
    "plt.subplots_adjust(right=1.2)\n",
    "sns.barplot(x=df.ClusterID, y=df.gdpp)"
   ]
  },
  {
   "cell_type": "markdown",
   "metadata": {},
   "source": [
    "# Outliers"
   ]
  },
  {
   "cell_type": "code",
   "execution_count": 88,
   "metadata": {},
   "outputs": [],
   "source": [
    "to_concat_df = Clustered_countries_df.drop('Cluster_ID', axis=1)"
   ]
  },
  {
   "cell_type": "code",
   "execution_count": 89,
   "metadata": {},
   "outputs": [
    {
     "data": {
      "text/html": [
       "<div>\n",
       "<style scoped>\n",
       "    .dataframe tbody tr th:only-of-type {\n",
       "        vertical-align: middle;\n",
       "    }\n",
       "\n",
       "    .dataframe tbody tr th {\n",
       "        vertical-align: top;\n",
       "    }\n",
       "\n",
       "    .dataframe thead th {\n",
       "        text-align: right;\n",
       "    }\n",
       "</style>\n",
       "<table border=\"1\" class=\"dataframe\">\n",
       "  <thead>\n",
       "    <tr style=\"text-align: right;\">\n",
       "      <th></th>\n",
       "      <th>country</th>\n",
       "      <th>child_mort</th>\n",
       "      <th>exports</th>\n",
       "      <th>health</th>\n",
       "      <th>imports</th>\n",
       "      <th>income</th>\n",
       "      <th>inflation</th>\n",
       "      <th>life_expec</th>\n",
       "      <th>total_fer</th>\n",
       "      <th>gdpp</th>\n",
       "    </tr>\n",
       "  </thead>\n",
       "  <tbody>\n",
       "    <tr>\n",
       "      <th>23</th>\n",
       "      <td>Brunei</td>\n",
       "      <td>10.5</td>\n",
       "      <td>67.4</td>\n",
       "      <td>2.84</td>\n",
       "      <td>28.0</td>\n",
       "      <td>80600</td>\n",
       "      <td>16.700</td>\n",
       "      <td>77.1</td>\n",
       "      <td>1.84</td>\n",
       "      <td>35300</td>\n",
       "    </tr>\n",
       "    <tr>\n",
       "      <th>49</th>\n",
       "      <td>Equatorial Guinea</td>\n",
       "      <td>111.0</td>\n",
       "      <td>85.8</td>\n",
       "      <td>4.48</td>\n",
       "      <td>58.9</td>\n",
       "      <td>33700</td>\n",
       "      <td>24.900</td>\n",
       "      <td>60.9</td>\n",
       "      <td>5.21</td>\n",
       "      <td>17100</td>\n",
       "    </tr>\n",
       "    <tr>\n",
       "      <th>81</th>\n",
       "      <td>Kiribati</td>\n",
       "      <td>62.7</td>\n",
       "      <td>13.3</td>\n",
       "      <td>11.30</td>\n",
       "      <td>79.9</td>\n",
       "      <td>1730</td>\n",
       "      <td>1.520</td>\n",
       "      <td>60.7</td>\n",
       "      <td>3.84</td>\n",
       "      <td>1490</td>\n",
       "    </tr>\n",
       "    <tr>\n",
       "      <th>82</th>\n",
       "      <td>Kuwait</td>\n",
       "      <td>10.8</td>\n",
       "      <td>66.7</td>\n",
       "      <td>2.63</td>\n",
       "      <td>30.4</td>\n",
       "      <td>75200</td>\n",
       "      <td>11.200</td>\n",
       "      <td>78.2</td>\n",
       "      <td>2.21</td>\n",
       "      <td>38500</td>\n",
       "    </tr>\n",
       "    <tr>\n",
       "      <th>87</th>\n",
       "      <td>Lesotho</td>\n",
       "      <td>99.7</td>\n",
       "      <td>39.4</td>\n",
       "      <td>11.10</td>\n",
       "      <td>101.0</td>\n",
       "      <td>2380</td>\n",
       "      <td>4.150</td>\n",
       "      <td>46.5</td>\n",
       "      <td>3.30</td>\n",
       "      <td>1170</td>\n",
       "    </tr>\n",
       "    <tr>\n",
       "      <th>88</th>\n",
       "      <td>Liberia</td>\n",
       "      <td>89.3</td>\n",
       "      <td>19.1</td>\n",
       "      <td>11.80</td>\n",
       "      <td>92.6</td>\n",
       "      <td>700</td>\n",
       "      <td>5.470</td>\n",
       "      <td>60.8</td>\n",
       "      <td>5.02</td>\n",
       "      <td>327</td>\n",
       "    </tr>\n",
       "    <tr>\n",
       "      <th>91</th>\n",
       "      <td>Luxembourg</td>\n",
       "      <td>2.8</td>\n",
       "      <td>175.0</td>\n",
       "      <td>7.77</td>\n",
       "      <td>142.0</td>\n",
       "      <td>91700</td>\n",
       "      <td>3.620</td>\n",
       "      <td>81.3</td>\n",
       "      <td>1.63</td>\n",
       "      <td>105000</td>\n",
       "    </tr>\n",
       "    <tr>\n",
       "      <th>98</th>\n",
       "      <td>Malta</td>\n",
       "      <td>6.8</td>\n",
       "      <td>153.0</td>\n",
       "      <td>8.65</td>\n",
       "      <td>154.0</td>\n",
       "      <td>28300</td>\n",
       "      <td>3.830</td>\n",
       "      <td>80.3</td>\n",
       "      <td>1.36</td>\n",
       "      <td>21100</td>\n",
       "    </tr>\n",
       "    <tr>\n",
       "      <th>101</th>\n",
       "      <td>Micronesia, Fed. Sts.</td>\n",
       "      <td>40.0</td>\n",
       "      <td>23.5</td>\n",
       "      <td>14.20</td>\n",
       "      <td>81.0</td>\n",
       "      <td>3340</td>\n",
       "      <td>3.800</td>\n",
       "      <td>65.4</td>\n",
       "      <td>3.46</td>\n",
       "      <td>2860</td>\n",
       "    </tr>\n",
       "    <tr>\n",
       "      <th>103</th>\n",
       "      <td>Mongolia</td>\n",
       "      <td>26.1</td>\n",
       "      <td>46.7</td>\n",
       "      <td>5.44</td>\n",
       "      <td>56.7</td>\n",
       "      <td>7710</td>\n",
       "      <td>39.200</td>\n",
       "      <td>66.2</td>\n",
       "      <td>2.64</td>\n",
       "      <td>2650</td>\n",
       "    </tr>\n",
       "    <tr>\n",
       "      <th>113</th>\n",
       "      <td>Nigeria</td>\n",
       "      <td>130.0</td>\n",
       "      <td>25.3</td>\n",
       "      <td>5.07</td>\n",
       "      <td>17.4</td>\n",
       "      <td>5150</td>\n",
       "      <td>104.000</td>\n",
       "      <td>60.5</td>\n",
       "      <td>5.84</td>\n",
       "      <td>2330</td>\n",
       "    </tr>\n",
       "    <tr>\n",
       "      <th>114</th>\n",
       "      <td>Norway</td>\n",
       "      <td>3.2</td>\n",
       "      <td>39.7</td>\n",
       "      <td>9.48</td>\n",
       "      <td>28.5</td>\n",
       "      <td>62300</td>\n",
       "      <td>5.950</td>\n",
       "      <td>81.0</td>\n",
       "      <td>1.95</td>\n",
       "      <td>87800</td>\n",
       "    </tr>\n",
       "    <tr>\n",
       "      <th>115</th>\n",
       "      <td>Oman</td>\n",
       "      <td>11.7</td>\n",
       "      <td>65.7</td>\n",
       "      <td>2.77</td>\n",
       "      <td>41.2</td>\n",
       "      <td>45300</td>\n",
       "      <td>15.600</td>\n",
       "      <td>76.1</td>\n",
       "      <td>2.90</td>\n",
       "      <td>19300</td>\n",
       "    </tr>\n",
       "    <tr>\n",
       "      <th>123</th>\n",
       "      <td>Qatar</td>\n",
       "      <td>9.0</td>\n",
       "      <td>62.3</td>\n",
       "      <td>1.81</td>\n",
       "      <td>23.8</td>\n",
       "      <td>125000</td>\n",
       "      <td>6.980</td>\n",
       "      <td>79.5</td>\n",
       "      <td>2.07</td>\n",
       "      <td>70300</td>\n",
       "    </tr>\n",
       "    <tr>\n",
       "      <th>128</th>\n",
       "      <td>Saudi Arabia</td>\n",
       "      <td>15.7</td>\n",
       "      <td>49.6</td>\n",
       "      <td>4.29</td>\n",
       "      <td>33.0</td>\n",
       "      <td>45400</td>\n",
       "      <td>17.200</td>\n",
       "      <td>75.1</td>\n",
       "      <td>2.96</td>\n",
       "      <td>19300</td>\n",
       "    </tr>\n",
       "    <tr>\n",
       "      <th>131</th>\n",
       "      <td>Seychelles</td>\n",
       "      <td>14.4</td>\n",
       "      <td>93.8</td>\n",
       "      <td>3.40</td>\n",
       "      <td>108.0</td>\n",
       "      <td>20400</td>\n",
       "      <td>-4.210</td>\n",
       "      <td>73.4</td>\n",
       "      <td>2.17</td>\n",
       "      <td>10800</td>\n",
       "    </tr>\n",
       "    <tr>\n",
       "      <th>133</th>\n",
       "      <td>Singapore</td>\n",
       "      <td>2.8</td>\n",
       "      <td>200.0</td>\n",
       "      <td>3.96</td>\n",
       "      <td>174.0</td>\n",
       "      <td>72100</td>\n",
       "      <td>-0.046</td>\n",
       "      <td>82.7</td>\n",
       "      <td>1.15</td>\n",
       "      <td>46600</td>\n",
       "    </tr>\n",
       "    <tr>\n",
       "      <th>157</th>\n",
       "      <td>United Arab Emirates</td>\n",
       "      <td>8.6</td>\n",
       "      <td>77.7</td>\n",
       "      <td>3.66</td>\n",
       "      <td>63.6</td>\n",
       "      <td>57600</td>\n",
       "      <td>12.500</td>\n",
       "      <td>76.5</td>\n",
       "      <td>1.87</td>\n",
       "      <td>35000</td>\n",
       "    </tr>\n",
       "    <tr>\n",
       "      <th>159</th>\n",
       "      <td>United States</td>\n",
       "      <td>7.3</td>\n",
       "      <td>12.4</td>\n",
       "      <td>17.90</td>\n",
       "      <td>15.8</td>\n",
       "      <td>49400</td>\n",
       "      <td>1.220</td>\n",
       "      <td>78.7</td>\n",
       "      <td>1.93</td>\n",
       "      <td>48400</td>\n",
       "    </tr>\n",
       "    <tr>\n",
       "      <th>163</th>\n",
       "      <td>Venezuela</td>\n",
       "      <td>17.1</td>\n",
       "      <td>28.5</td>\n",
       "      <td>4.91</td>\n",
       "      <td>17.6</td>\n",
       "      <td>16500</td>\n",
       "      <td>45.900</td>\n",
       "      <td>75.4</td>\n",
       "      <td>2.47</td>\n",
       "      <td>13500</td>\n",
       "    </tr>\n",
       "  </tbody>\n",
       "</table>\n",
       "</div>"
      ],
      "text/plain": [
       "                   country  child_mort  exports  health  imports  income  \\\n",
       "23                  Brunei        10.5     67.4    2.84     28.0   80600   \n",
       "49       Equatorial Guinea       111.0     85.8    4.48     58.9   33700   \n",
       "81                Kiribati        62.7     13.3   11.30     79.9    1730   \n",
       "82                  Kuwait        10.8     66.7    2.63     30.4   75200   \n",
       "87                 Lesotho        99.7     39.4   11.10    101.0    2380   \n",
       "88                 Liberia        89.3     19.1   11.80     92.6     700   \n",
       "91              Luxembourg         2.8    175.0    7.77    142.0   91700   \n",
       "98                   Malta         6.8    153.0    8.65    154.0   28300   \n",
       "101  Micronesia, Fed. Sts.        40.0     23.5   14.20     81.0    3340   \n",
       "103               Mongolia        26.1     46.7    5.44     56.7    7710   \n",
       "113                Nigeria       130.0     25.3    5.07     17.4    5150   \n",
       "114                 Norway         3.2     39.7    9.48     28.5   62300   \n",
       "115                   Oman        11.7     65.7    2.77     41.2   45300   \n",
       "123                  Qatar         9.0     62.3    1.81     23.8  125000   \n",
       "128           Saudi Arabia        15.7     49.6    4.29     33.0   45400   \n",
       "131             Seychelles        14.4     93.8    3.40    108.0   20400   \n",
       "133              Singapore         2.8    200.0    3.96    174.0   72100   \n",
       "157   United Arab Emirates         8.6     77.7    3.66     63.6   57600   \n",
       "159          United States         7.3     12.4   17.90     15.8   49400   \n",
       "163              Venezuela        17.1     28.5    4.91     17.6   16500   \n",
       "\n",
       "     inflation  life_expec  total_fer    gdpp  \n",
       "23      16.700        77.1       1.84   35300  \n",
       "49      24.900        60.9       5.21   17100  \n",
       "81       1.520        60.7       3.84    1490  \n",
       "82      11.200        78.2       2.21   38500  \n",
       "87       4.150        46.5       3.30    1170  \n",
       "88       5.470        60.8       5.02     327  \n",
       "91       3.620        81.3       1.63  105000  \n",
       "98       3.830        80.3       1.36   21100  \n",
       "101      3.800        65.4       3.46    2860  \n",
       "103     39.200        66.2       2.64    2650  \n",
       "113    104.000        60.5       5.84    2330  \n",
       "114      5.950        81.0       1.95   87800  \n",
       "115     15.600        76.1       2.90   19300  \n",
       "123      6.980        79.5       2.07   70300  \n",
       "128     17.200        75.1       2.96   19300  \n",
       "131     -4.210        73.4       2.17   10800  \n",
       "133     -0.046        82.7       1.15   46600  \n",
       "157     12.500        76.5       1.87   35000  \n",
       "159      1.220        78.7       1.93   48400  \n",
       "163     45.900        75.4       2.47   13500  "
      ]
     },
     "execution_count": 89,
     "metadata": {},
     "output_type": "execute_result"
    }
   ],
   "source": [
    "pd.concat([countries_df, to_concat_df]).drop_duplicates(keep=False)"
   ]
  },
  {
   "cell_type": "markdown",
   "metadata": {},
   "source": [
    "# Above Countries are part of the Outliers"
   ]
  },
  {
   "cell_type": "markdown",
   "metadata": {},
   "source": [
    "**After looking at the above removed outliers the following countries are closely matching with the Countries present in the\n",
    "Cluster which is in need of an Aid**\n",
    "\n",
    "-  Kiribati\n",
    "-  Lesotho\n",
    "-  Liberia\n",
    "-  Nigeria"
   ]
  },
  {
   "cell_type": "markdown",
   "metadata": {},
   "source": [
    "### Consolidated list of countries after analyzing the Clusters with different k values of K-Means and Cut value of Hierarchial Clustering and also the Outlier data below 28 Countries would be needing major assistance from the NGO\n",
    "\n",
    "-  Afghanistan\n",
    "-  Benin\n",
    "-  Burkina Faso\n",
    "-  Burundi\n",
    "-  Cameroon\n",
    "-  Central African Republic\n",
    "-  Chad\n",
    "-  Congo, Dem. Rep.\n",
    "-  Cote d'Ivoire\n",
    "-  Guinea\n",
    "-  Guinea-Bissau\n",
    "-  Haiti\n",
    "-  Malawi\n",
    "-  Mali\n",
    "-  Mozambique\n",
    "-  Niger\n",
    "-  Rwanda\n",
    "-  Sierra Leone\n",
    "-  Sudan\n",
    "-  Tanzania\n",
    "-  Timor-Leste\n",
    "-  Togo\n",
    "-  Uganda\n",
    "-  Zambia\n",
    "-  Kiribati\n",
    "-  Lesotho\n",
    "-  Liberia\n",
    "-  Nigeria"
   ]
  },
  {
   "cell_type": "markdown",
   "metadata": {},
   "source": [
    "##### Few other Countries might also need the assistance but not as needy as the above set of Countries"
   ]
  },
  {
   "cell_type": "code",
   "execution_count": null,
   "metadata": {},
   "outputs": [],
   "source": []
  }
 ],
 "metadata": {
  "kernelspec": {
   "display_name": "Python 3",
   "language": "python",
   "name": "python3"
  },
  "language_info": {
   "codemirror_mode": {
    "name": "ipython",
    "version": 3
   },
   "file_extension": ".py",
   "mimetype": "text/x-python",
   "name": "python",
   "nbconvert_exporter": "python",
   "pygments_lexer": "ipython3",
   "version": "3.6.5"
  }
 },
 "nbformat": 4,
 "nbformat_minor": 2
}
